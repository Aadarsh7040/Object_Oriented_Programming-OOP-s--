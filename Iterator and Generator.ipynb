{
 "cells": [
  {
   "cell_type": "markdown",
   "id": "intended-signature",
   "metadata": {},
   "source": [
    "# Iterator"
   ]
  },
  {
   "cell_type": "code",
   "execution_count": null,
   "id": "chemical-projection",
   "metadata": {},
   "outputs": [],
   "source": [
    "An iterator is an object which implements the iterators protocol, which consist of __iter__ \n",
    "and __next__ method\n",
    "\n",
    "For loop works like an iterator\n",
    "iterators >> for loop\n",
    "iterables >> string, list, tuple, set, dict, range\n",
    "\n",
    "It contains __iter__ and __next__ methods # iter and next function\n",
    "\n",
    "__method__ >> reserved builtin methods\n",
    "__method   >> private methods\n",
    "_method    >> public methods\n",
    "method     >> public methods\n",
    "_          >> temporary use "
   ]
  },
  {
   "cell_type": "code",
   "execution_count": 5,
   "id": "municipal-enclosure",
   "metadata": {},
   "outputs": [
    {
     "name": "stdout",
     "output_type": "stream",
     "text": [
      "item is : 2\n",
      "item is : 3\n",
      "item is : 4\n",
      "item is : 5\n",
      "item is : 6\n",
      "item is : 7\n"
     ]
    }
   ],
   "source": [
    "list1 = [2,3,4,5,6,7]\n",
    "for i in list1:\n",
    "    print('item is :',i)"
   ]
  },
  {
   "cell_type": "code",
   "execution_count": 53,
   "id": "former-worker",
   "metadata": {},
   "outputs": [
    {
     "name": "stdout",
     "output_type": "stream",
     "text": [
      "Hello Python\n",
      "Hello Python\n",
      "Hello Python\n",
      "Hello Python\n",
      "Hello Python\n",
      "100\n"
     ]
    }
   ],
   "source": [
    "i = 100\n",
    "for _ in range(5):\n",
    "    print('Hello Python')\n",
    "    \n",
    "print(i)"
   ]
  },
  {
   "cell_type": "code",
   "execution_count": 56,
   "id": "compliant-briefs",
   "metadata": {},
   "outputs": [
    {
     "name": "stdout",
     "output_type": "stream",
     "text": [
      "Hello Function\n",
      "100\n",
      "python\n",
      "data science\n"
     ]
    }
   ],
   "source": [
    "def my_fun():\n",
    "    print(\"Hello Function\")\n",
    "    \n",
    "    return 100, 'python', 'data science'\n",
    "\n",
    "a,b,c = my_fun()\n",
    "print(a)\n",
    "print(b)\n",
    "print(c)"
   ]
  },
  {
   "cell_type": "code",
   "execution_count": 58,
   "id": "enabling-rider",
   "metadata": {},
   "outputs": [
    {
     "name": "stdout",
     "output_type": "stream",
     "text": [
      "Hello Function\n",
      "100\n",
      "data science\n"
     ]
    }
   ],
   "source": [
    "def my_fun():\n",
    "    print(\"Hello Function\")\n",
    "    \n",
    "    return 100, 'python', 'data science'\n",
    "\n",
    "a,_,_ = my_fun()\n",
    "\n",
    "print(a)"
   ]
  },
  {
   "cell_type": "code",
   "execution_count": 14,
   "id": "royal-origin",
   "metadata": {},
   "outputs": [
    {
     "name": "stdout",
     "output_type": "stream",
     "text": [
      "2\n",
      "3\n",
      "4\n",
      "5\n",
      "6\n",
      "7\n"
     ]
    }
   ],
   "source": [
    "list1 = [2,3,4,5,6,7]\n",
    "Obj = iter(list1)\n",
    "\n",
    "print(next(Obj))\n",
    "print(next(Obj))\n",
    "print(next(Obj))\n",
    "print(next(Obj))\n",
    "print(next(Obj))\n",
    "print(next(Obj))\n",
    "# print(next(Obj))"
   ]
  },
  {
   "cell_type": "code",
   "execution_count": 15,
   "id": "going-harris",
   "metadata": {},
   "outputs": [],
   "source": [
    "var = 'python'\n",
    "Obj = iter(var)"
   ]
  },
  {
   "cell_type": "code",
   "execution_count": null,
   "id": "dedicated-shirt",
   "metadata": {},
   "outputs": [],
   "source": [
    "class ClassName:\n",
    "    def __init__(self):\n",
    "        pass\n",
    "    \n",
    "    def __iter__(self):    # special methods\n",
    "        pass\n",
    "    \n",
    "    def __next__(self):\n",
    "        pass"
   ]
  },
  {
   "cell_type": "code",
   "execution_count": 24,
   "id": "organizational-demand",
   "metadata": {},
   "outputs": [
    {
     "data": {
      "text/plain": [
       "['__add__',\n",
       " '__class__',\n",
       " '__contains__',\n",
       " '__delattr__',\n",
       " '__delitem__',\n",
       " '__dir__',\n",
       " '__doc__',\n",
       " '__eq__',\n",
       " '__format__',\n",
       " '__ge__',\n",
       " '__getattribute__',\n",
       " '__getitem__',\n",
       " '__gt__',\n",
       " '__hash__',\n",
       " '__iadd__',\n",
       " '__imul__',\n",
       " '__init__',\n",
       " '__init_subclass__',\n",
       " '__iter__',\n",
       " '__le__',\n",
       " '__len__',\n",
       " '__lt__',\n",
       " '__mul__',\n",
       " '__ne__',\n",
       " '__new__',\n",
       " '__reduce__',\n",
       " '__reduce_ex__',\n",
       " '__repr__',\n",
       " '__reversed__',\n",
       " '__rmul__',\n",
       " '__setattr__',\n",
       " '__setitem__',\n",
       " '__sizeof__',\n",
       " '__str__',\n",
       " '__subclasshook__',\n",
       " 'append',\n",
       " 'clear',\n",
       " 'copy',\n",
       " 'count',\n",
       " 'extend',\n",
       " 'index',\n",
       " 'insert',\n",
       " 'pop',\n",
       " 'remove',\n",
       " 'reverse',\n",
       " 'sort']"
      ]
     },
     "execution_count": 24,
     "metadata": {},
     "output_type": "execute_result"
    }
   ],
   "source": [
    "list1 = [2,3,4,5,6,7]\n",
    "dir(list1)"
   ]
  },
  {
   "cell_type": "code",
   "execution_count": 36,
   "id": "under-grain",
   "metadata": {},
   "outputs": [
    {
     "data": {
      "text/plain": [
       "True"
      ]
     },
     "execution_count": 36,
     "metadata": {},
     "output_type": "execute_result"
    }
   ],
   "source": [
    "list1.__contains__(4)"
   ]
  },
  {
   "cell_type": "code",
   "execution_count": 39,
   "id": "prostate-sequence",
   "metadata": {},
   "outputs": [
    {
     "data": {
      "text/plain": [
       "[2, 3, 4, 5, 6, 7, 10, 20, 30]"
      ]
     },
     "execution_count": 39,
     "metadata": {},
     "output_type": "execute_result"
    }
   ],
   "source": [
    "list1.__add__([10,20,30])"
   ]
  },
  {
   "cell_type": "code",
   "execution_count": 42,
   "id": "actual-entrance",
   "metadata": {},
   "outputs": [
    {
     "data": {
      "text/plain": [
       "[2, 3, 4, 5, 6, 7, 10, 20, 30, 10, 20, 30, 10, 20, 30]"
      ]
     },
     "execution_count": 42,
     "metadata": {},
     "output_type": "execute_result"
    }
   ],
   "source": [
    "list1.extend([10,20,30])\n",
    "list1"
   ]
  },
  {
   "cell_type": "code",
   "execution_count": 43,
   "id": "polish-plane",
   "metadata": {},
   "outputs": [
    {
     "data": {
      "text/plain": [
       "[]"
      ]
     },
     "execution_count": 43,
     "metadata": {},
     "output_type": "execute_result"
    }
   ],
   "source": [
    "list1.__init__() # list1 = []\n",
    "list1"
   ]
  },
  {
   "cell_type": "code",
   "execution_count": 29,
   "id": "separate-cyprus",
   "metadata": {},
   "outputs": [
    {
     "data": {
      "text/plain": [
       "True"
      ]
     },
     "execution_count": 29,
     "metadata": {},
     "output_type": "execute_result"
    }
   ],
   "source": [
    "4 in list1"
   ]
  },
  {
   "cell_type": "code",
   "execution_count": 21,
   "id": "indian-behalf",
   "metadata": {},
   "outputs": [
    {
     "data": {
      "text/plain": [
       "6"
      ]
     },
     "execution_count": 21,
     "metadata": {},
     "output_type": "execute_result"
    }
   ],
   "source": [
    "list1.__len__()"
   ]
  },
  {
   "cell_type": "code",
   "execution_count": null,
   "id": "alpine-beatles",
   "metadata": {},
   "outputs": [],
   "source": [
    "list1.__len__()"
   ]
  },
  {
   "cell_type": "code",
   "execution_count": 32,
   "id": "affiliated-second",
   "metadata": {},
   "outputs": [
    {
     "data": {
      "text/plain": [
       "'python python python python python '"
      ]
     },
     "execution_count": 32,
     "metadata": {},
     "output_type": "execute_result"
    }
   ],
   "source": [
    "string = 'python '\n",
    "string * 5"
   ]
  },
  {
   "cell_type": "code",
   "execution_count": 35,
   "id": "expanded-server",
   "metadata": {},
   "outputs": [
    {
     "data": {
      "text/plain": [
       "'python python python python python '"
      ]
     },
     "execution_count": 35,
     "metadata": {},
     "output_type": "execute_result"
    }
   ],
   "source": [
    "string.__mul__(5)"
   ]
  },
  {
   "cell_type": "code",
   "execution_count": 47,
   "id": "fossil-scratch",
   "metadata": {},
   "outputs": [
    {
     "data": {
      "text/plain": [
       "['__add__',\n",
       " '__class__',\n",
       " '__contains__',\n",
       " '__delattr__',\n",
       " '__dir__',\n",
       " '__doc__',\n",
       " '__eq__',\n",
       " '__format__',\n",
       " '__ge__',\n",
       " '__getattribute__',\n",
       " '__getitem__',\n",
       " '__getnewargs__',\n",
       " '__gt__',\n",
       " '__hash__',\n",
       " '__init__',\n",
       " '__init_subclass__',\n",
       " '__iter__',\n",
       " '__le__',\n",
       " '__len__',\n",
       " '__lt__',\n",
       " '__mul__',\n",
       " '__ne__',\n",
       " '__new__',\n",
       " '__reduce__',\n",
       " '__reduce_ex__',\n",
       " '__repr__',\n",
       " '__rmul__',\n",
       " '__setattr__',\n",
       " '__sizeof__',\n",
       " '__str__',\n",
       " '__subclasshook__',\n",
       " 'count',\n",
       " 'index']"
      ]
     },
     "execution_count": 47,
     "metadata": {},
     "output_type": "execute_result"
    }
   ],
   "source": [
    "list1 = (3,4,5,6)\n",
    "dir(list1)"
   ]
  },
  {
   "cell_type": "markdown",
   "id": "sustainable-problem",
   "metadata": {},
   "source": [
    "# Exponent of 2"
   ]
  },
  {
   "cell_type": "code",
   "execution_count": 62,
   "id": "attempted-prophet",
   "metadata": {},
   "outputs": [
    {
     "name": "stdout",
     "output_type": "stream",
     "text": [
      "1\n",
      "2\n",
      "4\n",
      "8\n",
      "16\n",
      "32\n"
     ]
    }
   ],
   "source": [
    "for i in range(6):\n",
    "    print(2 ** i)"
   ]
  },
  {
   "cell_type": "code",
   "execution_count": 76,
   "id": "common-fundamental",
   "metadata": {},
   "outputs": [
    {
     "name": "stdout",
     "output_type": "stream",
     "text": [
      "1\n",
      "2\n",
      "4\n",
      "8\n",
      "16\n",
      "32\n"
     ]
    }
   ],
   "source": [
    "class ExponentTwo:\n",
    "    def __init__(self, max1):\n",
    "        self.max1 = max1            # 5\n",
    "#         print(self.max1)\n",
    "        \n",
    "    def __iter__(self):\n",
    "        self.n = 0                 # 0\n",
    "        return self  # Method return a reference to the object on which  it is called\n",
    "    \n",
    "    def __next__(self):\n",
    "        if self.n <= self.max1:  # 0 <= 5\n",
    "            result = 2 ** self.n\n",
    "            self.n += 1\n",
    "            return result\n",
    "        else:\n",
    "            raise StopIteration\n",
    "            \n",
    "Obj = ExponentTwo(5)\n",
    "x = iter(Obj)\n",
    "print(next(x))\n",
    "print(next(x))\n",
    "print(next(x))\n",
    "print(next(x))\n",
    "print(next(x))\n",
    "print(next(x))\n",
    "# print(next(x))"
   ]
  },
  {
   "cell_type": "code",
   "execution_count": 84,
   "id": "illegal-burst",
   "metadata": {},
   "outputs": [
    {
     "name": "stdout",
     "output_type": "stream",
     "text": [
      "1\n",
      "2\n",
      "4\n",
      "8\n",
      "16\n",
      "32\n"
     ]
    }
   ],
   "source": [
    "class ExponentTwo:\n",
    "    def __init__(self, max1):\n",
    "        self.max1 = max1            # 5\n",
    "#         print(self.max1)\n",
    "        \n",
    "    def __iter__(self):\n",
    "        self.n = 0                 # 0\n",
    "        return self              # reference >> self\n",
    "    \n",
    "    def __next__(self):\n",
    "        if self.n <= self.max1:  # 0 <= 5\n",
    "            result = 2 ** self.n\n",
    "            self.n += 1\n",
    "            return result\n",
    "        else:\n",
    "            raise StopIteration\n",
    "            \n",
    "Obj = ExponentTwo(5)\n",
    "for i in Obj:\n",
    "    print(i)"
   ]
  },
  {
   "cell_type": "markdown",
   "id": "another-movement",
   "metadata": {},
   "source": [
    "# Generator"
   ]
  },
  {
   "cell_type": "code",
   "execution_count": null,
   "id": "coordinate-cycling",
   "metadata": {},
   "outputs": [],
   "source": [
    "If we are using one or more yield statements, then it called as generator"
   ]
  },
  {
   "cell_type": "code",
   "execution_count": 92,
   "id": "perfect-refund",
   "metadata": {},
   "outputs": [
    {
     "name": "stdout",
     "output_type": "stream",
     "text": [
      "Square of 4 is 16\n"
     ]
    },
    {
     "data": {
      "text/plain": [
       "16"
      ]
     },
     "execution_count": 92,
     "metadata": {},
     "output_type": "execute_result"
    }
   ],
   "source": [
    "def my_fun(list1):\n",
    "    for i in list1:\n",
    "        sqr = i ** 2\n",
    "        print(f\"Square of {i} is {sqr}\")\n",
    "        return sqr\n",
    "    \n",
    "    print(\"*\"*60)\n",
    "\n",
    "my_fun([4,5,6,7])"
   ]
  },
  {
   "cell_type": "code",
   "execution_count": 96,
   "id": "explicit-greene",
   "metadata": {},
   "outputs": [
    {
     "name": "stdout",
     "output_type": "stream",
     "text": [
      "Square of 4 is 16\n",
      "************************************************************\n",
      "Square of 5 is 25\n",
      "************************************************************\n",
      "Square of 6 is 36\n",
      "************************************************************\n",
      "Square of 7 is 49\n",
      "************************************************************\n"
     ]
    }
   ],
   "source": [
    "def my_fun(list1):\n",
    "    for i in list1:\n",
    "        sqr = i ** 2\n",
    "        print(f\"Square of {i} is {sqr}\")\n",
    "        yield sqr    # generator\n",
    "    \n",
    "GenObj = my_fun([4,5,6,7])\n",
    "\n",
    "for i in GenObj:\n",
    "    print(\"*\"*60)"
   ]
  },
  {
   "cell_type": "code",
   "execution_count": 98,
   "id": "sealed-wrapping",
   "metadata": {},
   "outputs": [
    {
     "name": "stdout",
     "output_type": "stream",
     "text": [
      "This is first item\n"
     ]
    },
    {
     "data": {
      "text/plain": [
       "10"
      ]
     },
     "execution_count": 98,
     "metadata": {},
     "output_type": "execute_result"
    }
   ],
   "source": [
    "def test_generator():\n",
    "    print(\"This is first item\")\n",
    "    return 10\n",
    "\n",
    "    print(\"This is second item\")\n",
    "    return 20\n",
    "    \n",
    "    print(\"This is third item\")\n",
    "    return 30\n",
    "\n",
    "test_generator()"
   ]
  },
  {
   "cell_type": "code",
   "execution_count": 104,
   "id": "reduced-better",
   "metadata": {},
   "outputs": [
    {
     "name": "stdout",
     "output_type": "stream",
     "text": [
      "This is first item\n",
      "10\n",
      "This is second item\n"
     ]
    },
    {
     "ename": "StopIteration",
     "evalue": "20",
     "output_type": "error",
     "traceback": [
      "\u001b[1;31m---------------------------------------------------------------------------\u001b[0m",
      "\u001b[1;31mStopIteration\u001b[0m                             Traceback (most recent call last)",
      "\u001b[1;32m<ipython-input-104-2df2da5e66be>\u001b[0m in \u001b[0;36m<module>\u001b[1;34m\u001b[0m\n\u001b[0;32m     11\u001b[0m \u001b[0mx\u001b[0m \u001b[1;33m=\u001b[0m \u001b[0miter\u001b[0m\u001b[1;33m(\u001b[0m\u001b[0mtest_generator\u001b[0m\u001b[1;33m(\u001b[0m\u001b[1;33m)\u001b[0m\u001b[1;33m)\u001b[0m\u001b[1;33m\u001b[0m\u001b[1;33m\u001b[0m\u001b[0m\n\u001b[0;32m     12\u001b[0m \u001b[0mprint\u001b[0m\u001b[1;33m(\u001b[0m\u001b[0mnext\u001b[0m\u001b[1;33m(\u001b[0m\u001b[0mx\u001b[0m\u001b[1;33m)\u001b[0m\u001b[1;33m)\u001b[0m\u001b[1;33m\u001b[0m\u001b[1;33m\u001b[0m\u001b[0m\n\u001b[1;32m---> 13\u001b[1;33m \u001b[0mprint\u001b[0m\u001b[1;33m(\u001b[0m\u001b[0mnext\u001b[0m\u001b[1;33m(\u001b[0m\u001b[0mx\u001b[0m\u001b[1;33m)\u001b[0m\u001b[1;33m)\u001b[0m\u001b[1;33m\u001b[0m\u001b[1;33m\u001b[0m\u001b[0m\n\u001b[0m",
      "\u001b[1;31mStopIteration\u001b[0m: 20"
     ]
    }
   ],
   "source": [
    "def test_generator():\n",
    "    print(\"This is first item\")\n",
    "    yield 10\n",
    "\n",
    "    print(\"This is second item\")\n",
    "    return 20\n",
    "    \n",
    "    print(\"This is third item\")\n",
    "    return 30\n",
    "\n",
    "x = iter(test_generator())\n",
    "print(next(x))\n",
    "print(next(x))"
   ]
  },
  {
   "cell_type": "code",
   "execution_count": 107,
   "id": "variable-dayton",
   "metadata": {},
   "outputs": [
    {
     "name": "stdout",
     "output_type": "stream",
     "text": [
      "This is first item\n",
      "10\n",
      "This is second item\n",
      "20\n",
      "This is third item\n",
      "30\n"
     ]
    }
   ],
   "source": [
    "def test_generator():\n",
    "    print(\"This is first item\")\n",
    "    yield 10\n",
    "\n",
    "    print(\"This is second item\")\n",
    "    yield 20\n",
    "    \n",
    "    print(\"This is third item\")\n",
    "    yield 30\n",
    "\n",
    "x = iter(test_generator())\n",
    "print(next(x))\n",
    "print(next(x))\n",
    "print(next(x))"
   ]
  },
  {
   "cell_type": "code",
   "execution_count": 110,
   "id": "listed-horror",
   "metadata": {},
   "outputs": [
    {
     "name": "stdout",
     "output_type": "stream",
     "text": [
      "This is first item\n",
      "10\n",
      "This is second item\n",
      "20\n",
      "This is third item\n",
      "30\n"
     ]
    }
   ],
   "source": [
    "def test_generator():\n",
    "    print(\"This is first item\")\n",
    "    yield 10\n",
    "\n",
    "    print(\"This is second item\")\n",
    "    yield 20\n",
    "    \n",
    "    print(\"This is third item\")\n",
    "    yield 30\n",
    "\n",
    "for val in test_generator():\n",
    "    print(val)"
   ]
  },
  {
   "cell_type": "code",
   "execution_count": 113,
   "id": "alternative-reward",
   "metadata": {},
   "outputs": [
    {
     "name": "stdout",
     "output_type": "stream",
     "text": [
      "p\n"
     ]
    },
    {
     "data": {
      "text/plain": [
       "'p'"
      ]
     },
     "execution_count": 113,
     "metadata": {},
     "output_type": "execute_result"
    }
   ],
   "source": [
    "def test_generator(string):\n",
    "    for char in string:\n",
    "        print(char)\n",
    "        return char\n",
    "        \n",
    "test_generator('python')"
   ]
  },
  {
   "cell_type": "code",
   "execution_count": 118,
   "id": "rational-preference",
   "metadata": {},
   "outputs": [
    {
     "name": "stdout",
     "output_type": "stream",
     "text": [
      "Yield statement\n",
      "p\n",
      "Yield statement\n",
      "y\n",
      "Yield statement\n",
      "t\n",
      "Yield statement\n",
      "h\n",
      "Yield statement\n",
      "o\n",
      "Yield statement\n",
      "n\n"
     ]
    }
   ],
   "source": [
    "def test_generator(string):\n",
    "    for char in string:\n",
    "        print('Yield statement')\n",
    "    \n",
    "        yield char\n",
    "        \n",
    "for i in test_generator('python'):\n",
    "    print(i)"
   ]
  },
  {
   "cell_type": "code",
   "execution_count": 123,
   "id": "affiliated-margin",
   "metadata": {},
   "outputs": [
    {
     "name": "stdout",
     "output_type": "stream",
     "text": [
      "Yield statement 1\n",
      "p\n",
      "Yield statement 2\n",
      "y\n",
      "Yield statement 3\n",
      "t\n",
      "Yield statement 4\n",
      "h\n",
      "Yield statement 5\n",
      "o\n",
      "Yield statement 6\n",
      "n\n"
     ]
    }
   ],
   "source": [
    "def test_generator(string):\n",
    "    for i in range(len(string)):\n",
    "        print(f'Yield statement {i+1}')\n",
    "    \n",
    "        yield string[i]\n",
    "        \n",
    "for char in test_generator('python'):\n",
    "    print(char)"
   ]
  },
  {
   "cell_type": "code",
   "execution_count": 127,
   "id": "popular-sailing",
   "metadata": {},
   "outputs": [
    {
     "name": "stdout",
     "output_type": "stream",
     "text": [
      "Square of 5 is 25\n"
     ]
    },
    {
     "data": {
      "text/plain": [
       "25"
      ]
     },
     "execution_count": 127,
     "metadata": {},
     "output_type": "execute_result"
    }
   ],
   "source": [
    "def calculation(num):\n",
    "    sqr = num ** 2\n",
    "    print(f\"Square of {num} is {sqr}\")\n",
    "    return sqr\n",
    "\n",
    "    cube = num ** 3\n",
    "    print(f\"Cube of {num} is {cube}\")\n",
    "\n",
    "    return cube\n",
    "\n",
    "calculation(5)"
   ]
  },
  {
   "cell_type": "code",
   "execution_count": 128,
   "id": "national-walter",
   "metadata": {},
   "outputs": [
    {
     "name": "stdout",
     "output_type": "stream",
     "text": [
      "Square of 5 is 25\n",
      "Cube of 5 is 125\n"
     ]
    },
    {
     "data": {
      "text/plain": [
       "(25, 125)"
      ]
     },
     "execution_count": 128,
     "metadata": {},
     "output_type": "execute_result"
    }
   ],
   "source": [
    "def calculation(num):\n",
    "    sqr = num ** 2\n",
    "    print(f\"Square of {num} is {sqr}\")\n",
    "\n",
    "    cube = num ** 3\n",
    "    print(f\"Cube of {num} is {cube}\")\n",
    "\n",
    "    return sqr,cube\n",
    "\n",
    "calculation(5)"
   ]
  },
  {
   "cell_type": "code",
   "execution_count": 126,
   "id": "capital-magnitude",
   "metadata": {},
   "outputs": [
    {
     "name": "stdout",
     "output_type": "stream",
     "text": [
      "Square of 5 is 25\n",
      "25\n",
      "Cube of 5 is 125\n",
      "125\n"
     ]
    }
   ],
   "source": [
    "def calculation(num):\n",
    "    sqr = num ** 2\n",
    "    print(f\"Square of {num} is {sqr}\")\n",
    "    yield sqr\n",
    "\n",
    "    cube = num ** 3\n",
    "    print(f\"Cube of {num} is {cube}\")\n",
    "\n",
    "    yield cube\n",
    "\n",
    "for result in calculation(5):\n",
    "    print(result)"
   ]
  },
  {
   "cell_type": "code",
   "execution_count": 135,
   "id": "least-stephen",
   "metadata": {},
   "outputs": [
    {
     "name": "stdout",
     "output_type": "stream",
     "text": [
      "1\n",
      "1\n",
      "2\n",
      "3\n",
      "5\n"
     ]
    }
   ],
   "source": [
    "def fibonacci(num):\n",
    "    first, second = 0,1\n",
    "    for i in range(num):\n",
    "        first, second = second, first + second\n",
    "        yield first\n",
    "        \n",
    "for i in fibonacci(5):\n",
    "    print(i)"
   ]
  }
 ],
 "metadata": {
  "kernelspec": {
   "display_name": "Python 3 (ipykernel)",
   "language": "python",
   "name": "python3"
  },
  "language_info": {
   "codemirror_mode": {
    "name": "ipython",
    "version": 3
   },
   "file_extension": ".py",
   "mimetype": "text/x-python",
   "name": "python",
   "nbconvert_exporter": "python",
   "pygments_lexer": "ipython3",
   "version": "3.9.7"
  }
 },
 "nbformat": 4,
 "nbformat_minor": 5
}
