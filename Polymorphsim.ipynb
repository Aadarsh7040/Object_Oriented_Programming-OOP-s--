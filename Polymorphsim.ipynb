{
 "cells": [
  {
   "cell_type": "markdown",
   "id": "filled-characteristic",
   "metadata": {},
   "source": [
    "# Polymorphsim"
   ]
  },
  {
   "cell_type": "code",
   "execution_count": null,
   "id": "cross-method",
   "metadata": {},
   "outputs": [],
   "source": [
    "Poly >> Many\n",
    "Morphism >> Forms\n",
    "Polymorphsim >> Many Forms"
   ]
  },
  {
   "cell_type": "code",
   "execution_count": 3,
   "id": "bibliographic-tutorial",
   "metadata": {},
   "outputs": [
    {
     "name": "stdout",
     "output_type": "stream",
     "text": [
      "Hello Data Science\n"
     ]
    }
   ],
   "source": [
    "def my_fun():\n",
    "    print(\"Hello Python\")\n",
    "    \n",
    "def my_fun():\n",
    "    print(\"Hello Data Science\")\n",
    "    \n",
    "my_fun()"
   ]
  },
  {
   "cell_type": "code",
   "execution_count": null,
   "id": "responsible-hearts",
   "metadata": {},
   "outputs": [],
   "source": [
    "class A:\n",
    "    def my_fun():\n",
    "        print(\"Hello Python\")\n",
    "    \n",
    "class B:\n",
    "    def my_fun():\n",
    "        print(\"Hello Data Science\")\n",
    "    \n"
   ]
  },
  {
   "cell_type": "code",
   "execution_count": 7,
   "id": "geological-therapist",
   "metadata": {},
   "outputs": [
    {
     "name": "stdout",
     "output_type": "stream",
     "text": [
      "4\n",
      "5\n",
      "6\n",
      "2\n"
     ]
    }
   ],
   "source": [
    "list1 = [4,5,6,7]\n",
    "tuple1 = (20,30,40,50,50)\n",
    "string = 'Python'\n",
    "dict1 = {'A':65,'B':66}\n",
    "\n",
    "print(len(list1))\n",
    "print(len(tuple1))\n",
    "print(len(string))\n",
    "print(len(dict1))"
   ]
  },
  {
   "cell_type": "code",
   "execution_count": 10,
   "id": "exempt-joshua",
   "metadata": {},
   "outputs": [
    {
     "name": "stdout",
     "output_type": "stream",
     "text": [
      "4\n",
      "5\n",
      "6\n",
      "2\n",
      "++++++++++++++++++++++++++++++++++++++++++++++++++++++++++++\n",
      "22\n",
      "190\n"
     ]
    }
   ],
   "source": [
    "list1 = [4,5,6,7]\n",
    "tuple1 = (20,30,40,50,50)\n",
    "string = 'Python'\n",
    "dict1 = {'A':65,'B':66}\n",
    "\n",
    "print(len(list1))\n",
    "print(len(tuple1))\n",
    "print(len(string))\n",
    "print(len(dict1))\n",
    "\n",
    "print(\"+\"*60)\n",
    "print(sum(list1))\n",
    "print(sum(tuple1))"
   ]
  },
  {
   "cell_type": "code",
   "execution_count": 15,
   "id": "black-smile",
   "metadata": {},
   "outputs": [
    {
     "name": "stdout",
     "output_type": "stream",
     "text": [
      "Area of circle\n",
      "Area of Square\n",
      "Area of Rectangle\n"
     ]
    }
   ],
   "source": [
    "class Circle():\n",
    "    def area(self):\n",
    "        print(\"Area of circle\")\n",
    "        \n",
    "class Square():\n",
    "    def area(self):\n",
    "        print(\"Area of Square\")\n",
    "        \n",
    "class Rectangle():\n",
    "    def area(self):\n",
    "        print(\"Area of Rectangle\")\n",
    "        \n",
    "c1 = Circle()\n",
    "s1 = Square()\n",
    "r1 = Rectangle()\n",
    "\n",
    "c1.area()\n",
    "s1.area()\n",
    "r1.area()\n"
   ]
  },
  {
   "cell_type": "code",
   "execution_count": 18,
   "id": "competitive-captain",
   "metadata": {},
   "outputs": [
    {
     "name": "stdout",
     "output_type": "stream",
     "text": [
      "Area of circle\n",
      "Area of Square\n",
      "Area of Rectangle\n"
     ]
    }
   ],
   "source": [
    "class Circle():\n",
    "    def area(self):\n",
    "        print(\"Area of circle\")\n",
    "        \n",
    "class Square():\n",
    "    def area(self):\n",
    "        print(\"Area of Square\")\n",
    "        \n",
    "class Rectangle():\n",
    "    def area(self):\n",
    "        print(\"Area of Rectangle\")\n",
    "        \n",
    "c1 = Circle()\n",
    "s1 = Square()\n",
    "r1 = Rectangle()\n",
    "\n",
    "for Obj in [c1,s1,r1]:\n",
    "    Obj.area()\n"
   ]
  },
  {
   "cell_type": "code",
   "execution_count": 32,
   "id": "specified-drawing",
   "metadata": {},
   "outputs": [
    {
     "name": "stdout",
     "output_type": "stream",
     "text": [
      "Area of circle 78.54\n",
      "Area of Square 36\n",
      "Area of Rectangle 30\n"
     ]
    }
   ],
   "source": [
    "import math \n",
    "\n",
    "class Circle():\n",
    "    def __init__(self,radius):\n",
    "        self.radius = radius\n",
    "        \n",
    "    def area(self):\n",
    "        ar = math.pi * self.radius * self.radius\n",
    "        print(\"Area of circle\",round(ar,2))\n",
    "        \n",
    "class Square(Circle):\n",
    "    def __init__(self,side):\n",
    "        self.side = side\n",
    "    \n",
    "    def area(self):\n",
    "        ar = self.side ** 2\n",
    "        print(\"Area of Square\",ar)\n",
    "        \n",
    "class Rectangle():\n",
    "    def __init__(self,l,b):\n",
    "        self.length = l\n",
    "        self.breadth = b\n",
    "        \n",
    "    def area(self):\n",
    "        ar = self.length * self.breadth\n",
    "        print(\"Area of Rectangle\",ar)\n",
    "  \n",
    "def execute_functions():\n",
    "    c1 = Circle(5)\n",
    "    s1 = Square(6)\n",
    "    r1 = Rectangle(5,6)\n",
    "    for Obj in [c1,s1,r1]:\n",
    "        Obj.area()\n",
    "        \n",
    "if __name__ == \"__main__\":\n",
    "    execute_functions()"
   ]
  },
  {
   "cell_type": "code",
   "execution_count": 34,
   "id": "gorgeous-egypt",
   "metadata": {},
   "outputs": [
    {
     "name": "stdout",
     "output_type": "stream",
     "text": [
      "Area of circle 78.54\n",
      "Area of Square 100\n",
      "Area of Rectangle 24\n"
     ]
    }
   ],
   "source": [
    "import math \n",
    "\n",
    "class Circle():\n",
    "    def __init__(self,radius = 5):\n",
    "        self.radius = radius\n",
    "        \n",
    "    def area(self):\n",
    "        ar = math.pi * self.radius * self.radius\n",
    "        print(\"Area of circle\",round(ar,2))\n",
    "        \n",
    "class Square(Circle):\n",
    "    def __init__(self,side = 10):\n",
    "        self.side = side\n",
    "    \n",
    "    def area(self):\n",
    "        ar = self.side ** 2\n",
    "        print(\"Area of Square\",ar)\n",
    "        \n",
    "class Rectangle():\n",
    "    def __init__(self,l= 4,b= 6):\n",
    "        self.length = l\n",
    "        self.breadth = b\n",
    "        \n",
    "    def area(self):\n",
    "        ar = self.length * self.breadth\n",
    "        print(\"Area of Rectangle\",ar)\n",
    "  \n",
    "def execute_functions():\n",
    "    c1 = Circle()\n",
    "    s1 = Square()\n",
    "    r1 = Rectangle()\n",
    "    for Obj in [c1,s1,r1]:\n",
    "        Obj.area()\n",
    "        \n",
    "if __name__ == \"__main__\":\n",
    "    execute_functions()"
   ]
  },
  {
   "cell_type": "code",
   "execution_count": 37,
   "id": "selective-landscape",
   "metadata": {},
   "outputs": [
    {
     "name": "stdout",
     "output_type": "stream",
     "text": [
      "Area of circle 78.54\n",
      "Area of Square 36\n",
      "Area of Rectangle 120\n"
     ]
    }
   ],
   "source": [
    "import math \n",
    "\n",
    "class Circle():\n",
    "    def __init__(self,radius = 5):\n",
    "        self.radius = radius\n",
    "        \n",
    "    def area(self):\n",
    "        ar = math.pi * self.radius * self.radius\n",
    "        print(\"Area of circle\",round(ar,2))\n",
    "        \n",
    "class Square(Circle):\n",
    "    def __init__(self,side = 10):\n",
    "        self.side = side\n",
    "    \n",
    "    def area(self):\n",
    "        ar = self.side ** 2\n",
    "        print(\"Area of Square\",ar)\n",
    "        \n",
    "class Rectangle():\n",
    "    def __init__(self,l= 4,b= 6):\n",
    "        self.length = l\n",
    "        self.breadth = b\n",
    "        \n",
    "    def area(self):\n",
    "        ar = self.length * self.breadth\n",
    "        print(\"Area of Rectangle\",ar)\n",
    "  \n",
    "def execute_functions(radius,side,length,breadth):\n",
    "    c1 = Circle(radius)\n",
    "    s1 = Square(side)\n",
    "    r1 = Rectangle(length,breadth)\n",
    "    for Obj in [c1,s1,r1]:\n",
    "        Obj.area()\n",
    "        \n",
    "if __name__ == \"__main__\":\n",
    "    radius = 5\n",
    "    side = 6\n",
    "    length = 10\n",
    "    breadth = 12\n",
    "    execute_functions(radius,side,length,breadth)"
   ]
  }
 ],
 "metadata": {
  "kernelspec": {
   "display_name": "Python 3 (ipykernel)",
   "language": "python",
   "name": "python3"
  },
  "language_info": {
   "codemirror_mode": {
    "name": "ipython",
    "version": 3
   },
   "file_extension": ".py",
   "mimetype": "text/x-python",
   "name": "python",
   "nbconvert_exporter": "python",
   "pygments_lexer": "ipython3",
   "version": "3.9.7"
  }
 },
 "nbformat": 4,
 "nbformat_minor": 5
}
