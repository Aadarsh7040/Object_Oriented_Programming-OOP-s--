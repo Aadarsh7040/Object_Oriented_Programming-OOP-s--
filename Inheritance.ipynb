{
 "cells": [
  {
   "cell_type": "markdown",
   "id": "surrounded-childhood",
   "metadata": {},
   "source": [
    "# Class and Object"
   ]
  },
  {
   "cell_type": "code",
   "execution_count": null,
   "id": "average-wisconsin",
   "metadata": {},
   "outputs": [],
   "source": [
    "class\n",
    "object\n",
    "self\n",
    "__init__\n",
    "local variable\n",
    "instance variable\n",
    "class variable\n",
    "global variable"
   ]
  },
  {
   "cell_type": "markdown",
   "id": "floral-stability",
   "metadata": {},
   "source": [
    "# OOP Concept"
   ]
  },
  {
   "cell_type": "code",
   "execution_count": null,
   "id": "smart-barrier",
   "metadata": {},
   "outputs": [],
   "source": [
    "Inheritance\n",
    "encapsulation\n",
    "polymorphism\n",
    "Abstraction"
   ]
  },
  {
   "cell_type": "markdown",
   "id": "undefined-uzbekistan",
   "metadata": {},
   "source": [
    "# Inheritance"
   ]
  },
  {
   "cell_type": "code",
   "execution_count": null,
   "id": "killing-sucking",
   "metadata": {},
   "outputs": [],
   "source": [
    "It allows a class to inherit the properties from other class \n",
    "properties >> variables and methods\n",
    "\n",
    "Base Class >> Parent Class >> SuperClass\n",
    "Derived Class >> Child Class >> Subclass"
   ]
  },
  {
   "cell_type": "markdown",
   "id": "judicial-tuesday",
   "metadata": {},
   "source": [
    "# Types of Inheritance"
   ]
  },
  {
   "cell_type": "code",
   "execution_count": null,
   "id": "fatal-insulin",
   "metadata": {},
   "outputs": [],
   "source": [
    "1. Single Inheritance\n",
    "2. Multilevel Inheritance\n",
    "3. Multiple Inheritance\n",
    "4. Hirarchical Inheritance\n",
    "5. Hybrid Inheritance"
   ]
  },
  {
   "cell_type": "code",
   "execution_count": 1,
   "id": "pediatric-extension",
   "metadata": {},
   "outputs": [],
   "source": [
    "class TestClass1():\n",
    "    pass\n",
    "\n",
    "class TestClass2():\n",
    "    pass\n",
    "\n",
    "Obj1 = TestClass1()\n",
    "Obj2 = TestClass2()"
   ]
  },
  {
   "cell_type": "code",
   "execution_count": null,
   "id": "significant-timothy",
   "metadata": {},
   "outputs": [],
   "source": [
    "class TestClass1():\n",
    "    pass\n",
    "\n",
    "class TestClass2(TestClass1):\n",
    "    pass\n",
    "\n",
    "Obj1 = TestClass1()\n",
    "Obj2 = TestClass2()"
   ]
  },
  {
   "cell_type": "code",
   "execution_count": 9,
   "id": "historical-fiber",
   "metadata": {},
   "outputs": [
    {
     "name": "stdout",
     "output_type": "stream",
     "text": [
      "Accuracy score\n",
      "x ==  100\n"
     ]
    }
   ],
   "source": [
    "class DataPreprocessing():\n",
    "    x = 100\n",
    "    def missing_vaues(self):\n",
    "        pass\n",
    "    \n",
    "    def standardization(self):\n",
    "        pass\n",
    "    \n",
    "class ModelEvaluation(DataPreprocessing):\n",
    "    def classification_report(self):\n",
    "        pass\n",
    "    \n",
    "    def accuracy_score(self):\n",
    "        print(\"Accuracy score\")\n",
    "        self.classification_report()\n",
    "        self.standardization()\n",
    "        print('x == ',self.x)\n",
    "        pass\n",
    "    \n",
    "evaluationObj = ModelEvaluation()\n",
    "evaluationObj.accuracy_score()"
   ]
  },
  {
   "cell_type": "code",
   "execution_count": 10,
   "id": "institutional-smoke",
   "metadata": {},
   "outputs": [
    {
     "name": "stdout",
     "output_type": "stream",
     "text": [
      "This is Parent Class\n",
      "This is child class\n"
     ]
    }
   ],
   "source": [
    "class Parent():\n",
    "    print(\"This is Parent Class\")\n",
    "    \n",
    "class Child(Parent):\n",
    "    print(\"This is child class\")\n",
    "    \n",
    "c1 = Child()"
   ]
  },
  {
   "cell_type": "code",
   "execution_count": null,
   "id": "determined-result",
   "metadata": {},
   "outputs": [],
   "source": [
    "class Base():\n",
    "    print(\"This is Parent Class\")\n",
    "    \n",
    "class Derived(Parent):\n",
    "    print(\"This is child class\")\n",
    "    \n",
    "c1 = Child()"
   ]
  },
  {
   "cell_type": "code",
   "execution_count": null,
   "id": "tough-bunny",
   "metadata": {},
   "outputs": [],
   "source": [
    "class SuperClass():\n",
    "    print(\"This is Parent Class\")\n",
    "    \n",
    "class SubClass(Parent):\n",
    "    print(\"This is child class\")\n",
    "    \n",
    "c1 = Child()"
   ]
  },
  {
   "cell_type": "code",
   "execution_count": 28,
   "id": "reported-scanning",
   "metadata": {},
   "outputs": [
    {
     "name": "stdout",
     "output_type": "stream",
     "text": [
      "Company Information INIT function\n",
      "Company Name is : Cognizant\n",
      "Company Location is : Pune\n",
      "********************************************************************************\n",
      "Employee Information INIT function\n",
      "Employee Name is : Prashant\n",
      "Employee Salary is : 90000\n"
     ]
    }
   ],
   "source": [
    "class CompanyInfo():\n",
    "    def __init__(self,comapny_name,location):\n",
    "        print(\"Company Information INIT function\")\n",
    "        self.comapny_name = comapny_name\n",
    "        self.location = location\n",
    "        \n",
    "    def get_company_name(self):\n",
    "        print(\"Company Name is :\",self.comapny_name)\n",
    "        \n",
    "    def get_company_location(self):\n",
    "        print(\"Company Location is :\",self.location)\n",
    "    \n",
    "    \n",
    "class EmployeeInfo():\n",
    "    def __init__(self,emp_name,salary):\n",
    "        print(\"Employee Information INIT function\")\n",
    "        self.emp_name = emp_name\n",
    "        self.salary = salary\n",
    "        \n",
    "    def get_employee_name(self):\n",
    "        print(\"Employee Name is :\",self.emp_name)\n",
    "        \n",
    "    def get_employee_salary(self):\n",
    "        print(\"Employee Salary is :\",self.salary)\n",
    "    \n",
    "c1 = CompanyInfo('Cognizant',\"Pune\")  \n",
    "c1.get_company_name()\n",
    "c1.get_company_location()\n",
    "\n",
    "print(\"*\"*80)\n",
    "E1 = EmployeeInfo('Prashant',90000)\n",
    "E1.get_employee_name()\n",
    "E1.get_employee_salary()"
   ]
  },
  {
   "cell_type": "code",
   "execution_count": 44,
   "id": "skilled-perspective",
   "metadata": {},
   "outputs": [
    {
     "name": "stdout",
     "output_type": "stream",
     "text": [
      "********************************************************************************\n",
      "Employee Information INIT function\n",
      "Employee Name is : Prashant\n",
      "Employee Salary is : 90000\n",
      "********************************************************************************\n",
      "Company located in Baner Area\n"
     ]
    },
    {
     "ename": "AttributeError",
     "evalue": "'EmployeeInfo' object has no attribute 'comapny_name'",
     "output_type": "error",
     "traceback": [
      "\u001b[1;31m---------------------------------------------------------------------------\u001b[0m",
      "\u001b[1;31mAttributeError\u001b[0m                            Traceback (most recent call last)",
      "\u001b[1;32m<ipython-input-44-48cd0423066a>\u001b[0m in \u001b[0;36m<module>\u001b[1;34m\u001b[0m\n\u001b[0;32m     33\u001b[0m \u001b[1;33m\u001b[0m\u001b[0m\n\u001b[0;32m     34\u001b[0m \u001b[0mE1\u001b[0m\u001b[1;33m.\u001b[0m\u001b[0mget_company_area\u001b[0m\u001b[1;33m(\u001b[0m\u001b[1;33m)\u001b[0m\u001b[1;33m\u001b[0m\u001b[1;33m\u001b[0m\u001b[0m\n\u001b[1;32m---> 35\u001b[1;33m \u001b[0mE1\u001b[0m\u001b[1;33m.\u001b[0m\u001b[0mget_company_name\u001b[0m\u001b[1;33m(\u001b[0m\u001b[1;33m)\u001b[0m\u001b[1;33m\u001b[0m\u001b[1;33m\u001b[0m\u001b[0m\n\u001b[0m",
      "\u001b[1;32m<ipython-input-44-48cd0423066a>\u001b[0m in \u001b[0;36mget_company_name\u001b[1;34m(self)\u001b[0m\n\u001b[0;32m      6\u001b[0m \u001b[1;33m\u001b[0m\u001b[0m\n\u001b[0;32m      7\u001b[0m     \u001b[1;32mdef\u001b[0m \u001b[0mget_company_name\u001b[0m\u001b[1;33m(\u001b[0m\u001b[0mself\u001b[0m\u001b[1;33m)\u001b[0m\u001b[1;33m:\u001b[0m\u001b[1;33m\u001b[0m\u001b[1;33m\u001b[0m\u001b[0m\n\u001b[1;32m----> 8\u001b[1;33m         \u001b[0mprint\u001b[0m\u001b[1;33m(\u001b[0m\u001b[1;34m\"Company Name is :\"\u001b[0m\u001b[1;33m,\u001b[0m\u001b[0mself\u001b[0m\u001b[1;33m.\u001b[0m\u001b[0mcomapny_name\u001b[0m\u001b[1;33m)\u001b[0m\u001b[1;33m\u001b[0m\u001b[1;33m\u001b[0m\u001b[0m\n\u001b[0m\u001b[0;32m      9\u001b[0m \u001b[1;33m\u001b[0m\u001b[0m\n\u001b[0;32m     10\u001b[0m     \u001b[1;32mdef\u001b[0m \u001b[0mget_company_location\u001b[0m\u001b[1;33m(\u001b[0m\u001b[0mself\u001b[0m\u001b[1;33m)\u001b[0m\u001b[1;33m:\u001b[0m\u001b[1;33m\u001b[0m\u001b[1;33m\u001b[0m\u001b[0m\n",
      "\u001b[1;31mAttributeError\u001b[0m: 'EmployeeInfo' object has no attribute 'comapny_name'"
     ]
    }
   ],
   "source": [
    "class CompanyInfo():                                # Parent class\n",
    "    def __init__(self,comapny_name,location):\n",
    "        print(\"Company Information INIT function\")\n",
    "        self.comapny_name = comapny_name\n",
    "        self.location = location\n",
    "        \n",
    "    def get_company_name(self):\n",
    "        print(\"Company Name is :\",self.comapny_name)\n",
    "        \n",
    "    def get_company_location(self):\n",
    "        print(\"Company Location is :\",self.location)\n",
    "    \n",
    "    def get_company_area(self):\n",
    "        print(\"Company located in Baner Area\")\n",
    "    \n",
    "class EmployeeInfo(CompanyInfo):                   # Child class\n",
    "    def __init__(self,emp_name,salary):\n",
    "        print(\"Employee Information INIT function\")\n",
    "        self.emp_name = emp_name\n",
    "        self.salary = salary\n",
    "        \n",
    "    def get_employee_name(self):\n",
    "        print(\"Employee Name is :\",self.emp_name)\n",
    "        \n",
    "    def get_employee_salary(self):\n",
    "        print(\"Employee Salary is :\",self.salary)\n",
    "\n",
    "print(\"*\"*80)\n",
    "E1 = EmployeeInfo('Prashant',90000)\n",
    "E1.get_employee_name()\n",
    "E1.get_employee_salary()\n",
    "print(\"*\"*80)\n",
    "\n",
    "E1.get_company_area()\n",
    "E1.get_company_name()"
   ]
  },
  {
   "cell_type": "code",
   "execution_count": 1,
   "id": "knowing-sewing",
   "metadata": {},
   "outputs": [
    {
     "name": "stdout",
     "output_type": "stream",
     "text": [
      "********************************************************************************\n",
      "Employee Information INIT function\n",
      "Company Information INIT function\n",
      "comapny_name,location A B\n"
     ]
    }
   ],
   "source": [
    "class CompanyInfo():                                # Parent class\n",
    "    company_area = 'Baner'\n",
    "    def __init__(self,comapny_name,location):\n",
    "        print(\"Company Information INIT function\")\n",
    "        print('comapny_name,location',comapny_name,location)\n",
    "        self.comapny_name = comapny_name  # 'A'\n",
    "        self.location = location\n",
    "        \n",
    "    def get_company_name(self):\n",
    "        print(\"Company Name is :\",self.comapny_name)\n",
    "        \n",
    "    def get_company_location(self):\n",
    "        print(\"Company Location is :\",self.location)\n",
    "    \n",
    "   \n",
    "class EmployeeInfo(CompanyInfo):                   # Child class\n",
    "    def __init__(self,emp_name,salary):\n",
    "        print(\"Employee Information INIT function\")\n",
    "        CompanyInfo.__init__(self,\"A\",\"B\")\n",
    "        self.emp_name = emp_name\n",
    "        self.salary = salary\n",
    "        \n",
    "    def get_employee_name(self):\n",
    "        print(\"Employee Name is :\",self.emp_name)\n",
    "        \n",
    "    def get_employee_salary(self):\n",
    "        print(\"Employee Salary is :\",self.salary)\n",
    "\n",
    "print(\"*\"*80)\n",
    "E1 = EmployeeInfo('Prashant',90000)\n",
    "# E1.get_company_name()\n",
    "# E1.get_company_location()\n",
    "# E1.company_area \n",
    "# E1.get_employee_name()\n",
    "# E1.get_employee_salary()"
   ]
  },
  {
   "cell_type": "code",
   "execution_count": 39,
   "id": "tough-hostel",
   "metadata": {},
   "outputs": [
    {
     "name": "stdout",
     "output_type": "stream",
     "text": [
      "Hello Python\n",
      "++++++++++++++++++++++++++++++++++++++++++++++++++\n",
      "Hello Data Sciencne\n"
     ]
    }
   ],
   "source": [
    "class TestClass1():\n",
    "    def display(self):\n",
    "        print('Hello Python')\n",
    "        \n",
    "class TestClass2():\n",
    "    def display(self):\n",
    "        print(\"Hello Data Sciencne\")\n",
    "        \n",
    "Obj1 = TestClass1()\n",
    "Obj1.display()\n",
    "\n",
    "print(\"+\"*50)\n",
    "\n",
    "Obj2 = TestClass2()\n",
    "Obj2.display()"
   ]
  },
  {
   "cell_type": "code",
   "execution_count": 40,
   "id": "latin-colors",
   "metadata": {},
   "outputs": [
    {
     "name": "stdout",
     "output_type": "stream",
     "text": [
      "++++++++++++++++++++++++++++++++++++++++++++++++++\n",
      "Hello Data Sciencne\n"
     ]
    }
   ],
   "source": [
    "class TestClass1():\n",
    "    def display(self):\n",
    "        print('Hello Python')\n",
    "        \n",
    "class TestClass2(TestClass1):\n",
    "    def display(self):\n",
    "        print(\"Hello Data Sciencne\")\n",
    "        \n",
    "\n",
    "print(\"+\"*50)\n",
    "Obj2 = TestClass2()\n",
    "Obj2.display()"
   ]
  },
  {
   "cell_type": "code",
   "execution_count": 2,
   "id": "amber-print",
   "metadata": {},
   "outputs": [
    {
     "name": "stdout",
     "output_type": "stream",
     "text": [
      "Hello Data Sciencne\n"
     ]
    }
   ],
   "source": [
    "def display():\n",
    "    print('Hello Python')\n",
    "\n",
    "def display():\n",
    "    print(\"Hello Data Sciencne\")\n",
    "display()"
   ]
  },
  {
   "cell_type": "code",
   "execution_count": 56,
   "id": "attended-potter",
   "metadata": {},
   "outputs": [
    {
     "name": "stdout",
     "output_type": "stream",
     "text": [
      "********************************************************************************\n",
      "Employee Information INIT function\n",
      "Company Information INIT function\n",
      "comapny_name TCS\n",
      "Company Name is : TCS\n",
      "Company Location is : Mumbai\n",
      "Employee Name is : Prashant\n",
      "Employee Salary is : 90000\n"
     ]
    }
   ],
   "source": [
    "class CompanyInfo():                                # Parent class\n",
    "    company_area = 'Baner'\n",
    "    def __init__(self,comapny_name):\n",
    "        print(\"Company Information INIT function\")\n",
    "        print('comapny_name',comapny_name)\n",
    "        self.comapny_name = comapny_name  # 'A'\n",
    "        \n",
    "    def get_company_name(self):\n",
    "        print(\"Company Name is :\",self.comapny_name)\n",
    "        \n",
    "    def get_company_location(self,location):\n",
    "        print(\"Company Location is :\",location)\n",
    "    \n",
    "   \n",
    "class EmployeeInfo(CompanyInfo):                   # Child class\n",
    "    def __init__(self,emp_name,salary,comapny_name):\n",
    "        print(\"Employee Information INIT function\")\n",
    "        CompanyInfo.__init__(self,comapny_name)\n",
    "        self.emp_name = emp_name\n",
    "        self.salary = salary\n",
    "        \n",
    "    def get_employee_name(self):\n",
    "        print(\"Employee Name is :\",self.emp_name)\n",
    "        \n",
    "    def get_employee_salary(self):\n",
    "        print(\"Employee Salary is :\",self.salary)\n",
    "\n",
    "print(\"*\"*80)\n",
    "E1 = EmployeeInfo('Prashant',90000,'TCS')\n",
    "E1.get_company_name()\n",
    "E1.get_company_location('Mumbai')\n",
    "E1.company_area \n",
    "E1.get_employee_name()\n",
    "E1.get_employee_salary()"
   ]
  },
  {
   "cell_type": "code",
   "execution_count": 59,
   "id": "missing-portal",
   "metadata": {},
   "outputs": [
    {
     "name": "stdout",
     "output_type": "stream",
     "text": [
      "********************************************************************************\n",
      "Employee Information INIT function\n",
      "Company Information INIT function\n",
      "comapny_name TCS\n",
      "Company Name is : TCS\n",
      "Company Location is : Mumbai\n",
      "Employee Name is : Prashant\n",
      "Employee Salary is : 90000\n",
      "********************************************************************************\n"
     ]
    }
   ],
   "source": [
    "class CompanyInfo():                                # Parent class\n",
    "    company_area = 'Baner'\n",
    "    def __init__(self,comapny_name):\n",
    "        print(\"Company Information INIT function\")\n",
    "        print('comapny_name',comapny_name)\n",
    "        self.comapny_name = comapny_name  # 'A'\n",
    "        \n",
    "    def get_company_name(self):\n",
    "        print(\"Company Name is :\",self.comapny_name)\n",
    "        \n",
    "    def get_company_location(self,location):\n",
    "        print(\"Company Location is :\",location)\n",
    "    \n",
    "   \n",
    "class EmployeeInfo(CompanyInfo):                   # Child class\n",
    "    def __init__(self,emp_name,salary,comapny_name):\n",
    "        print(\"Employee Information INIT function\")\n",
    "        super().__init__(comapny_name)\n",
    "        self.emp_name = emp_name\n",
    "        self.salary = salary\n",
    "        \n",
    "    def get_employee_name(self):\n",
    "        print(\"Employee Name is :\",self.emp_name)\n",
    "        \n",
    "    def get_employee_salary(self):\n",
    "        print(\"Employee Salary is :\",self.salary)\n",
    "\n",
    "print(\"*\"*80)\n",
    "E1 = EmployeeInfo('Prashant',90000,'TCS')\n",
    "E1.get_company_name()\n",
    "E1.get_company_location('Mumbai')\n",
    "E1.company_area \n",
    "E1.get_employee_name()\n",
    "E1.get_employee_salary()\n",
    "print(\"*\"*80)\n"
   ]
  },
  {
   "cell_type": "code",
   "execution_count": 61,
   "id": "contemporary-delicious",
   "metadata": {},
   "outputs": [
    {
     "name": "stdout",
     "output_type": "stream",
     "text": [
      "********************************************************************************\n",
      "Employee Information INIT function\n",
      "Company Name is : TCS\n",
      "Company Location is : Mumbai\n",
      "Employee Name is : Prashant\n",
      "Employee Salary is : 90000\n",
      "********************************************************************************\n"
     ]
    }
   ],
   "source": [
    "class CompanyInfo():                                # Parent class\n",
    "    company_area = 'Baner'\n",
    "        \n",
    "    def get_company_name(self,comapny_name):\n",
    "        print(\"Company Name is :\",comapny_name)\n",
    "        \n",
    "    def get_company_location(self,location):\n",
    "        print(\"Company Location is :\",location)\n",
    "    \n",
    "   \n",
    "class EmployeeInfo(CompanyInfo):                   # Child class\n",
    "    def __init__(self,emp_name,salary):\n",
    "        print(\"Employee Information INIT function\")\n",
    "        self.emp_name = emp_name\n",
    "        self.salary = salary\n",
    "        \n",
    "    def get_employee_name(self):\n",
    "        print(\"Employee Name is :\",self.emp_name)\n",
    "        \n",
    "    def get_employee_salary(self):\n",
    "        print(\"Employee Salary is :\",self.salary)\n",
    "\n",
    "print(\"*\"*80)\n",
    "E1 = EmployeeInfo('Prashant',90000)\n",
    "E1.get_company_name('TCS')\n",
    "E1.get_company_location('Mumbai')\n",
    "E1.company_area \n",
    "E1.get_employee_name()\n",
    "E1.get_employee_salary()\n",
    "print(\"*\"*80)\n"
   ]
  },
  {
   "cell_type": "markdown",
   "id": "ongoing-reservation",
   "metadata": {},
   "source": [
    "# 1. Single Inheritance"
   ]
  },
  {
   "cell_type": "code",
   "execution_count": 65,
   "id": "infinite-trail",
   "metadata": {},
   "outputs": [
    {
     "name": "stdout",
     "output_type": "stream",
     "text": [
      "Child CLass init function\n",
      "Parent class init function\n"
     ]
    }
   ],
   "source": [
    "class Parent():\n",
    "    def __init__(self):\n",
    "        print(\"Parent class init function\")\n",
    "        \n",
    "class Child(Parent):\n",
    "    def __init__(self):\n",
    "        print(\"Child CLass init function\")\n",
    "        super().__init__()\n",
    "        \n",
    "c1 = Child()"
   ]
  },
  {
   "cell_type": "code",
   "execution_count": 62,
   "id": "digital-terminology",
   "metadata": {},
   "outputs": [
    {
     "name": "stdout",
     "output_type": "stream",
     "text": [
      "********************************************************************************\n",
      "Employee Information INIT function\n",
      "Company Name is : TCS\n",
      "Company Location is : Mumbai\n",
      "Employee Name is : Prashant\n",
      "Employee Salary is : 90000\n",
      "********************************************************************************\n"
     ]
    }
   ],
   "source": [
    "class CompanyInfo():                                # Parent class\n",
    "    company_area = 'Baner'\n",
    "        \n",
    "    def get_company_name(self,comapny_name):\n",
    "        print(\"Company Name is :\",comapny_name)\n",
    "        \n",
    "    def get_company_location(self,location):\n",
    "        print(\"Company Location is :\",location)\n",
    "    \n",
    "   \n",
    "class EmployeeInfo(CompanyInfo):                   # Child class\n",
    "    def __init__(self,emp_name,salary):\n",
    "        print(\"Employee Information INIT function\")\n",
    "        self.emp_name = emp_name\n",
    "        self.salary = salary\n",
    "        \n",
    "    def get_employee_name(self):\n",
    "        print(\"Employee Name is :\",self.emp_name)\n",
    "        \n",
    "    def get_employee_salary(self):\n",
    "        print(\"Employee Salary is :\",self.salary)\n",
    "\n",
    "print(\"*\"*80)\n",
    "E1 = EmployeeInfo('Prashant',90000)\n",
    "E1.get_company_name('TCS')\n",
    "E1.get_company_location('Mumbai')\n",
    "E1.company_area \n",
    "E1.get_employee_name()\n",
    "E1.get_employee_salary()\n",
    "print(\"*\"*80)\n"
   ]
  },
  {
   "cell_type": "markdown",
   "id": "royal-receptor",
   "metadata": {},
   "source": [
    "# 2. MultiLevel Inheritance"
   ]
  },
  {
   "cell_type": "code",
   "execution_count": null,
   "id": "identical-silly",
   "metadata": {},
   "outputs": [],
   "source": [
    "class GrandFather():\n",
    "    pass\n",
    "\n",
    "class Father(GrandFather):\n",
    "    pass\n",
    "\n",
    "class Child(Father):\n",
    "    pass"
   ]
  },
  {
   "cell_type": "code",
   "execution_count": 66,
   "id": "sensitive-quick",
   "metadata": {},
   "outputs": [],
   "source": [
    "class BaseClass1():\n",
    "    pass\n",
    "\n",
    "class BaseClass2(BaseClass1):\n",
    "    pass\n",
    "\n",
    "class BaseClass3(BaseClass2):\n",
    "    pass\n",
    "\n",
    "class BaseClass4(BaseClass3):\n",
    "    pass\n",
    "\n",
    "class DerivedClass(BaseClass4):\n",
    "    pass\n",
    "\n",
    "d1 = DerivedClass()\n",
    "\n",
    "b1 = BaseClass4()"
   ]
  },
  {
   "cell_type": "code",
   "execution_count": 72,
   "id": "signal-female",
   "metadata": {},
   "outputs": [
    {
     "name": "stdout",
     "output_type": "stream",
     "text": [
      "Calculation Function\n",
      "Multiplication Function\n",
      "Addition Function\n"
     ]
    }
   ],
   "source": [
    "class BaseClass1():\n",
    "    def addition(self):\n",
    "        print(\"Addition Function\")\n",
    "        \n",
    "class BaseClass2(BaseClass1):\n",
    "    def multiplication(self):\n",
    "        print(\"Multiplication Function\")\n",
    "        \n",
    "class DerivedClass(BaseClass2):\n",
    "    def calculation(self):\n",
    "        print(\"Calculation Function\")\n",
    "        \n",
    "d1 = DerivedClass()\n",
    "d1.calculation()\n",
    "d1.multiplication()\n",
    "d1.addition()"
   ]
  },
  {
   "cell_type": "code",
   "execution_count": 80,
   "id": "living-trinidad",
   "metadata": {},
   "outputs": [
    {
     "name": "stdout",
     "output_type": "stream",
     "text": [
      "Calculation Function\n",
      "Multiplication Function\n",
      "Addition Function\n",
      "addition of 5 and 6 is 11\n",
      "Division Function\n",
      "Div : 0.8333333333333334\n"
     ]
    }
   ],
   "source": [
    "class BaseClass1():\n",
    "    def addition(self):\n",
    "        print(\"Addition Function\")\n",
    "        add = self.a + self.b\n",
    "        print(f\"addition of {self.a} and {self.b} is {add}\")\n",
    "        \n",
    "class BaseClass2(BaseClass1):\n",
    "    def multiplication(self,a,b):\n",
    "        print(\"Multiplication Function\")\n",
    "        self.a = a\n",
    "        self.b = b\n",
    "        \n",
    "class DerivedClass(BaseClass2):\n",
    "    def calculation(self):\n",
    "        print(\"Calculation Function\")\n",
    "        \n",
    "    def division(self):\n",
    "        print(\"Division Function\")\n",
    "        print('Div :',self.a/self.b)\n",
    "        \n",
    "d1 = DerivedClass()\n",
    "d1.calculation()\n",
    "\n",
    "d1.multiplication(5,6)\n",
    "d1.addition()\n",
    "d1.division()"
   ]
  },
  {
   "cell_type": "code",
   "execution_count": 84,
   "id": "complimentary-situation",
   "metadata": {},
   "outputs": [
    {
     "name": "stdout",
     "output_type": "stream",
     "text": [
      "Derived class init function\n",
      "Addition Function\n",
      "addition of 40 and 5 is 45\n",
      "Multiplication Function\n",
      "Multiplication of 40 and 5 is 200\n",
      "self.add >> 45\n"
     ]
    }
   ],
   "source": [
    "class BaseClass1():\n",
    "    def addition(self):\n",
    "        print(\"Addition Function\")\n",
    "        self.add = self.a + self.b\n",
    "        print(f\"addition of {self.a} and {self.b} is {self.add}\")\n",
    "        \n",
    "class BaseClass2(BaseClass1):\n",
    "    def multiplication(self):\n",
    "        print(\"Multiplication Function\")\n",
    "        mul = self.a * self.b\n",
    "        print(f\"Multiplication of {self.a} and {self.b} is {mul}\")\n",
    "        print(\"self.add >>\",self.add)\n",
    "class DerivedClass(BaseClass2):\n",
    "    def __init__(self,a,b):\n",
    "        print(\"Derived class init function\")\n",
    "        self.a = a\n",
    "        self.b = b\n",
    "\n",
    "d1 = DerivedClass(40,5)\n",
    "d1.addition()\n",
    "d1.multiplication()"
   ]
  },
  {
   "cell_type": "code",
   "execution_count": 93,
   "id": "fancy-gathering",
   "metadata": {},
   "outputs": [
    {
     "name": "stdout",
     "output_type": "stream",
     "text": [
      "Base Class 1 INIT Function\n",
      "Base Class 2 INIT Function\n",
      "Derived class INIT function\n"
     ]
    }
   ],
   "source": [
    "class BaseClass1():\n",
    "    def __init__(self):\n",
    "        print(\"Base Class 1 INIT Function\")\n",
    "        \n",
    "    def addition(self):\n",
    "        print(\"Addition Function\")\n",
    "        self.add = self.a + self.b\n",
    "        print(f\"addition of {self.a} and {self.b} is {self.add}\")\n",
    "        \n",
    "class BaseClass2(BaseClass1):\n",
    "    \n",
    "    def __init__(self):\n",
    "        BaseClass1.__init__(self)\n",
    "        print(\"Base Class 2 INIT Function\")\n",
    "    \n",
    "    def multiplication(self):\n",
    "        print(\"Multiplication Function\")\n",
    "        mul = self.a * self.b\n",
    "        print(f\"Multiplication of {self.a} and {self.b} is {mul}\")\n",
    "        print(\"self.add >>\",self.add)\n",
    "        \n",
    "class DerivedClass(BaseClass2):\n",
    "    def __init__(self,a,b):\n",
    "        BaseClass2.__init__(self)\n",
    "        print(\"Derived class INIT function\")\n",
    "        self.a = a\n",
    "        self.b = b\n",
    "\n",
    "d1 = DerivedClass(40,5)"
   ]
  },
  {
   "cell_type": "code",
   "execution_count": 96,
   "id": "native-radius",
   "metadata": {},
   "outputs": [
    {
     "name": "stdout",
     "output_type": "stream",
     "text": [
      "C ::: python, d :::data science\n",
      "data :: data science\n",
      "Base Class 1 INIT Function\n",
      "Base Class 2 INIT Function\n",
      "Derived class INIT function\n"
     ]
    }
   ],
   "source": [
    "class BaseClass1():\n",
    "    def __init__(self,data):\n",
    "        print('data ::',data)\n",
    "        print(\"Base Class 1 INIT Function\")\n",
    "        \n",
    "    def addition(self):\n",
    "        print(\"Addition Function\")\n",
    "        self.add = self.a + self.b\n",
    "        print(f\"addition of {self.a} and {self.b} is {self.add}\")\n",
    "        \n",
    "class BaseClass2(BaseClass1):\n",
    "    \n",
    "    def __init__(self,c,d):\n",
    "        print(f\"C ::: {c}, d :::{d}\")\n",
    "        BaseClass1.__init__(self,d)\n",
    "        print(\"Base Class 2 INIT Function\")\n",
    "    \n",
    "    def multiplication(self):\n",
    "        print(\"Multiplication Function\")\n",
    "        mul = self.a * self.b\n",
    "        print(f\"Multiplication of {self.a} and {self.b} is {mul}\")\n",
    "        print(\"self.add >>\",self.add)\n",
    "        \n",
    "class DerivedClass(BaseClass2):\n",
    "    def __init__(self,a,b,c,d):\n",
    "        BaseClass2.__init__(self,c,d)\n",
    "        print(\"Derived class INIT function\")\n",
    "        self.a = a\n",
    "        self.b = b\n",
    "\n",
    "d1 = DerivedClass(40,5,'python','data science')"
   ]
  },
  {
   "cell_type": "code",
   "execution_count": null,
   "id": "entitled-editor",
   "metadata": {},
   "outputs": [],
   "source": []
  },
  {
   "cell_type": "markdown",
   "id": "ordered-alloy",
   "metadata": {},
   "source": [
    "# 3. Multiple Inheritance"
   ]
  },
  {
   "cell_type": "code",
   "execution_count": 98,
   "id": "universal-profile",
   "metadata": {},
   "outputs": [],
   "source": [
    "class Father():\n",
    "    pass\n",
    "\n",
    "class Mother():\n",
    "    pass\n",
    "\n",
    "class Child(Father,Mother):\n",
    "    pass\n",
    "\n",
    "c1 = Child()"
   ]
  },
  {
   "cell_type": "code",
   "execution_count": 99,
   "id": "protecting-mozambique",
   "metadata": {},
   "outputs": [],
   "source": [
    "class BaseClass1():\n",
    "    pass\n",
    "\n",
    "class BaseClass2():\n",
    "    pass\n",
    "\n",
    "class DerivedClass(Father,Mother):\n",
    "    pass\n",
    "\n",
    "d1 = DerivedClass()"
   ]
  },
  {
   "cell_type": "code",
   "execution_count": 110,
   "id": "welsh-marshall",
   "metadata": {},
   "outputs": [
    {
     "name": "stdout",
     "output_type": "stream",
     "text": [
      "Derived Class INIT function\n",
      "Addition Function\n",
      "addition of 10 and 20 is 30\n",
      "Multiplication Function\n",
      "Multiplication of 5 and 6 is 30\n",
      "Calculation Function\n"
     ]
    }
   ],
   "source": [
    "class BaseClass1():\n",
    "    def addition(self,a,b):\n",
    "        print(\"Addition Function\")\n",
    "        add = a + b\n",
    "        print(f\"addition of {a} and {b} is {add}\")\n",
    "        \n",
    "class BaseClass2():\n",
    "    def multiplication(self,a,b):\n",
    "        print(\"Multiplication Function\")\n",
    "        mul = a * b\n",
    "        print(f\"Multiplication of {a} and {b} is {mul}\")\n",
    "        \n",
    "class DerivedClass(BaseClass1,BaseClass2):\n",
    "    def __init__(self):\n",
    "        print(\"Derived Class INIT function\")\n",
    "        \n",
    "    def calculation(self):\n",
    "        print(\"Calculation Function\")\n",
    "\n",
    "d1 = DerivedClass()\n",
    "d1.addition(10,20)\n",
    "d1.multiplication(5,6)\n",
    "d1.calculation()"
   ]
  },
  {
   "cell_type": "code",
   "execution_count": 124,
   "id": "modified-labor",
   "metadata": {},
   "outputs": [
    {
     "name": "stdout",
     "output_type": "stream",
     "text": [
      "Derived Class INIT function\n",
      "Base Class 1 INIT Function\n",
      "Base Class 2 INIT Function\n",
      "x == Python\n",
      "y == Class\n",
      "Addition Function\n",
      "addition of 20 and 10 is 30\n",
      "Multiplication Function\n",
      "Multiplication of 5 and 6 is 30\n",
      "result Function\n"
     ]
    }
   ],
   "source": [
    "class BaseClass1():\n",
    "    def __init__(self,a,b):\n",
    "        print(\"Base Class 1 INIT Function\")\n",
    "        self.a = a\n",
    "        self.b = b\n",
    "        \n",
    "    def addition(self):\n",
    "        print(\"Addition Function\")\n",
    "        add = self.a + self.b\n",
    "        print(f\"addition of {self.a} and {self.b} is {add}\")\n",
    "        \n",
    "class BaseClass2():\n",
    "    def __init__(self,x,y):\n",
    "        print(\"Base Class 2 INIT Function\")\n",
    "        print('x ==',x)\n",
    "        print('y ==',y)\n",
    "    \n",
    "    def multiplication(self,a,b):\n",
    "        print(\"Multiplication Function\")\n",
    "        mul = a * b\n",
    "        print(f\"Multiplication of {a} and {b} is {mul}\")\n",
    "        \n",
    "class DerivedClass(BaseClass1,BaseClass2):\n",
    "    def __init__(self,a,b):\n",
    "        print(\"Derived Class INIT function\")\n",
    "        BaseClass1.__init__(self,a,b)\n",
    "        BaseClass2.__init__(self,'Python',\"Class\")\n",
    "        \n",
    "        \n",
    "    def result(self):\n",
    "        print(\"result Function\")\n",
    "\n",
    "d1 = DerivedClass(20,10)\n",
    "d1.addition()\n",
    "d1.multiplication(5,6)\n",
    "d1.result()"
   ]
  },
  {
   "cell_type": "code",
   "execution_count": 130,
   "id": "middle-retrieval",
   "metadata": {},
   "outputs": [
    {
     "name": "stdout",
     "output_type": "stream",
     "text": [
      "Derived Class INIT function\n",
      "Base Class 1 INIT Function\n",
      "Base Class 2 INIT Function\n",
      "x == Python\n",
      "y == Class\n",
      "50000\n",
      "50000\n"
     ]
    },
    {
     "data": {
      "text/plain": [
       "50000"
      ]
     },
     "execution_count": 130,
     "metadata": {},
     "output_type": "execute_result"
    }
   ],
   "source": [
    "class BaseClass1():\n",
    "    def __init__(self,a,b):\n",
    "        print(\"Base Class 1 INIT Function\")\n",
    "        self.a = a\n",
    "        self.b = b\n",
    "        \n",
    "    def addition(self):\n",
    "        print(\"Addition Function\")\n",
    "        add = self.a + self.b\n",
    "        print(f\"addition of {self.a} and {self.b} is {add}\")\n",
    "        \n",
    "class BaseClass2():\n",
    "    def __init__(self,x,y):\n",
    "        print(\"Base Class 2 INIT Function\")\n",
    "        print('x ==',x)\n",
    "        print('y ==',y)\n",
    "    \n",
    "    def multiplication(self,a,b):\n",
    "        print(\"Multiplication Function\")\n",
    "        mul = a * b\n",
    "        print(f\"Multiplication of {a} and {b} is {mul}\")\n",
    "        \n",
    "class DerivedClass(BaseClass1,BaseClass2):\n",
    "    \n",
    "    salary = 50000\n",
    "    def __init__(self,a,b,x,y):\n",
    "        print(\"Derived Class INIT function\")\n",
    "        BaseClass1.__init__(self,a,b)\n",
    "        BaseClass2.__init__(self,x,y)\n",
    "        \n",
    "        print(self.salary)\n",
    "        print(DerivedClass.salary)\n",
    "        \n",
    "    def result(self):\n",
    "        print(\"result Function\")\n",
    "\n",
    "d1 = DerivedClass(20,10,'Python',\"Class\")\n",
    "# d1.addition()\n",
    "# d1.multiplication(5,6)\n",
    "# d1.result()\n",
    "d1.salary\n",
    "DerivedClass(20,10,'Python',\"Class\").c"
   ]
  },
  {
   "cell_type": "code",
   "execution_count": null,
   "id": "missing-baker",
   "metadata": {},
   "outputs": [],
   "source": []
  }
 ],
 "metadata": {
  "kernelspec": {
   "display_name": "Python 3 (ipykernel)",
   "language": "python",
   "name": "python3"
  },
  "language_info": {
   "codemirror_mode": {
    "name": "ipython",
    "version": 3
   },
   "file_extension": ".py",
   "mimetype": "text/x-python",
   "name": "python",
   "nbconvert_exporter": "python",
   "pygments_lexer": "ipython3",
   "version": "3.9.7"
  }
 },
 "nbformat": 4,
 "nbformat_minor": 5
}
