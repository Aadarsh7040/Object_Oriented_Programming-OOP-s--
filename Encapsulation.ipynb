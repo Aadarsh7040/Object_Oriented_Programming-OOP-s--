{
 "cells": [
  {
   "cell_type": "markdown",
   "id": "controlling-interim",
   "metadata": {},
   "source": [
    "# Encapsulation"
   ]
  },
  {
   "cell_type": "code",
   "execution_count": null,
   "id": "dominican-patrick",
   "metadata": {},
   "outputs": [],
   "source": [
    "Used to restrict the access of methods and variables from outside the class\n",
    "\n",
    "Protecting from accidental modification of data"
   ]
  },
  {
   "cell_type": "code",
   "execution_count": 4,
   "id": "yellow-destination",
   "metadata": {},
   "outputs": [
    {
     "name": "stdout",
     "output_type": "stream",
     "text": [
      "Test Class INIT Function\n"
     ]
    },
    {
     "data": {
      "text/plain": [
       "'Data Science'"
      ]
     },
     "execution_count": 4,
     "metadata": {},
     "output_type": "execute_result"
    }
   ],
   "source": [
    "class TestClass:\n",
    "    var1 = 10000                               # Public class Variable\n",
    "    \n",
    "    \n",
    "    def __init__(self):\n",
    "        print(\"Test Class INIT Function\")\n",
    "        \n",
    "        var2 = 'python'                      # Local Variable\n",
    "        self.var3 = 'Data Science'           # Public instance Variable\n",
    "        \n",
    "Obj = TestClass()\n",
    "Obj.var1\n",
    "Obj.var3"
   ]
  },
  {
   "cell_type": "code",
   "execution_count": 6,
   "id": "creative-asbestos",
   "metadata": {},
   "outputs": [
    {
     "name": "stdout",
     "output_type": "stream",
     "text": [
      "Test Class INIT Function\n"
     ]
    },
    {
     "ename": "AttributeError",
     "evalue": "'TestClass' object has no attribute '__var1'",
     "output_type": "error",
     "traceback": [
      "\u001b[1;31m---------------------------------------------------------------------------\u001b[0m",
      "\u001b[1;31mAttributeError\u001b[0m                            Traceback (most recent call last)",
      "\u001b[1;32m<ipython-input-6-a46dae10594c>\u001b[0m in \u001b[0;36m<module>\u001b[1;34m\u001b[0m\n\u001b[0;32m      9\u001b[0m \u001b[1;33m\u001b[0m\u001b[0m\n\u001b[0;32m     10\u001b[0m \u001b[0mObj\u001b[0m \u001b[1;33m=\u001b[0m \u001b[0mTestClass\u001b[0m\u001b[1;33m(\u001b[0m\u001b[1;33m)\u001b[0m\u001b[1;33m\u001b[0m\u001b[1;33m\u001b[0m\u001b[0m\n\u001b[1;32m---> 11\u001b[1;33m \u001b[0mObj\u001b[0m\u001b[1;33m.\u001b[0m\u001b[0m__var1\u001b[0m\u001b[1;33m\u001b[0m\u001b[1;33m\u001b[0m\u001b[0m\n\u001b[0m",
      "\u001b[1;31mAttributeError\u001b[0m: 'TestClass' object has no attribute '__var1'"
     ]
    }
   ],
   "source": [
    "class TestClass:\n",
    "    __var1 = 10000                               # Private class Variable\n",
    "    \n",
    "    def __init__(self):\n",
    "        print(\"Test Class INIT Function\")\n",
    "        \n",
    "        var2 = 'python'                        # Local Variable\n",
    "        self.__var3 = 'Data Science'           # Private instance Variable\n",
    "        \n",
    "Obj = TestClass()\n",
    "Obj.__var1"
   ]
  },
  {
   "cell_type": "code",
   "execution_count": 9,
   "id": "ambient-ivory",
   "metadata": {},
   "outputs": [
    {
     "name": "stdout",
     "output_type": "stream",
     "text": [
      "Test Class INIT Function\n",
      "Value in Variable1 is  10000\n"
     ]
    }
   ],
   "source": [
    "class TestClass:\n",
    "    var1 = 10000                               # Public class Variable\n",
    "    \n",
    "    def __init__(self):\n",
    "        print(\"Test Class INIT Function\")\n",
    "        \n",
    "        var2 = 'python'                      # Local Variable\n",
    "        self.var3 = 'Data Science'           # Public instance Variable\n",
    "        \n",
    "    def display(self):\n",
    "        print(\"Value in Variable1 is \",self.var1)\n",
    "        \n",
    "Obj = TestClass()\n",
    "Obj.display()"
   ]
  },
  {
   "cell_type": "code",
   "execution_count": 12,
   "id": "super-cruise",
   "metadata": {},
   "outputs": [
    {
     "name": "stdout",
     "output_type": "stream",
     "text": [
      "Test Class INIT Function\n",
      "Value in Variable1 is 20000\n"
     ]
    }
   ],
   "source": [
    "class TestClass:\n",
    "    var1 = 10000                               # Public class Variable\n",
    "    \n",
    "    def __init__(self):\n",
    "        print(\"Test Class INIT Function\")\n",
    "        \n",
    "        var2 = 'python'                      # Local Variable\n",
    "        self.var3 = 'Data Science'           # Public instance Variable\n",
    "        \n",
    "    def display(self):\n",
    "        print(\"Value in Variable1 is\",self.var1)\n",
    "        \n",
    "Obj = TestClass()\n",
    "Obj.var1 = 20000  # Modifying value of variable1\n",
    "Obj.display()"
   ]
  },
  {
   "cell_type": "code",
   "execution_count": 17,
   "id": "desperate-century",
   "metadata": {},
   "outputs": [
    {
     "name": "stdout",
     "output_type": "stream",
     "text": [
      "Test Class INIT Function\n",
      "Value in Variable1 is 10000\n"
     ]
    }
   ],
   "source": [
    "class TestClass:\n",
    "    __var1 = 10000                               # Private class Variable\n",
    "    \n",
    "    def __init__(self):\n",
    "        print(\"Test Class INIT Function\")\n",
    "        \n",
    "        var2 = 'python'                      # Local Variable\n",
    "        self.var3 = 'Data Science'           # Public instance Variable\n",
    "        \n",
    "    def display(self):\n",
    "        print(\"Value in Variable1 is\",self.__var1)\n",
    "        \n",
    "Obj = TestClass()\n",
    "Obj.__var1 = 30000\n",
    "Obj.display()"
   ]
  },
  {
   "cell_type": "code",
   "execution_count": 20,
   "id": "loving-iceland",
   "metadata": {},
   "outputs": [
    {
     "name": "stdout",
     "output_type": "stream",
     "text": [
      "Test Class INIT Function\n",
      "Value in Variable1 is 10000\n",
      "Value in variable3 is Data Science\n"
     ]
    }
   ],
   "source": [
    "class TestClass:\n",
    "    __var1 = 10000                               # Private class Variable\n",
    "    \n",
    "    def __init__(self):\n",
    "        print(\"Test Class INIT Function\")\n",
    "        \n",
    "        var2 = 'python'                      # Local Variable\n",
    "        self.var3 = 'Data Science'           # Public instance Variable\n",
    "        \n",
    "    def display(self):\n",
    "        print(\"Value in Variable1 is\",self.__var1)\n",
    "        print(\"Value in variable3 is\",self.var3)\n",
    "        \n",
    "Obj = TestClass()\n",
    "Obj.display()"
   ]
  },
  {
   "cell_type": "code",
   "execution_count": 23,
   "id": "mental-pollution",
   "metadata": {},
   "outputs": [
    {
     "name": "stdout",
     "output_type": "stream",
     "text": [
      "Test Class INIT Function\n",
      "Value in Variable1 is 10000\n",
      "Value in variable3 is Machine Learning\n"
     ]
    }
   ],
   "source": [
    "class TestClass:\n",
    "    __var1 = 10000                               # Private class Variable\n",
    "    \n",
    "    def __init__(self):\n",
    "        print(\"Test Class INIT Function\")\n",
    "        \n",
    "        var2 = 'python'                      # Local Variable\n",
    "        self.var3 = 'Data Science'           # Public instance Variable\n",
    "        \n",
    "    def display(self):\n",
    "        print(\"Value in Variable1 is\",self.__var1)\n",
    "        print(\"Value in variable3 is\",self.var3)\n",
    "        \n",
    "Obj = TestClass()\n",
    "Obj.var3 = 'Machine Learning'\n",
    "Obj.display()"
   ]
  },
  {
   "cell_type": "code",
   "execution_count": 26,
   "id": "limiting-alabama",
   "metadata": {},
   "outputs": [
    {
     "name": "stdout",
     "output_type": "stream",
     "text": [
      "Test Class INIT Function\n",
      "Value in Variable1 is 10000\n",
      "Value in variable3 is Data Science\n",
      "Value in Variable1 is 10000\n",
      "Value in variable3 is Machine Learning\n"
     ]
    }
   ],
   "source": [
    "class TestClass:\n",
    "    __var1 = 10000                               # Private class Variable\n",
    "    \n",
    "    def __init__(self):\n",
    "        print(\"Test Class INIT Function\")\n",
    "        \n",
    "        var2 = 'python'                      # Local Variable\n",
    "        self.var3 = 'Data Science'           # Public instance Variable\n",
    "        \n",
    "    def display(self):\n",
    "        print(\"Value in Variable1 is\",self.__var1)\n",
    "        print(\"Value in variable3 is\",self.var3)\n",
    "        \n",
    "Obj = TestClass()\n",
    "Obj.display()\n",
    "Obj.var3 = 'Machine Learning'\n",
    "Obj.display()"
   ]
  },
  {
   "cell_type": "code",
   "execution_count": 31,
   "id": "ecological-gravity",
   "metadata": {},
   "outputs": [
    {
     "name": "stdout",
     "output_type": "stream",
     "text": [
      "Test Class INIT Function\n",
      "Value in Variable1 is 10000\n",
      "Value in variable3 is Data Science\n"
     ]
    }
   ],
   "source": [
    "class TestClass:\n",
    "    __var1 = 10000                               # Private class Variable\n",
    "    \n",
    "    def __init__(self):\n",
    "        print(\"Test Class INIT Function\")\n",
    "        \n",
    "        var2 = 'python'                      # Local Variable\n",
    "        self.__var3 = 'Data Science'           # private instance Variable\n",
    "        \n",
    "    def display(self):\n",
    "        print(\"Value in Variable1 is\",self.__var1)\n",
    "        print(\"Value in variable3 is\",self.__var3)\n",
    "        \n",
    "Obj = TestClass()\n",
    "Obj.__var3 = 'Machine Learning'\n",
    "Obj.display()"
   ]
  },
  {
   "cell_type": "code",
   "execution_count": 34,
   "id": "square-asthma",
   "metadata": {},
   "outputs": [
    {
     "name": "stdout",
     "output_type": "stream",
     "text": [
      "Test Class INIT Function\n",
      "Value in Variable1 is 10000\n",
      "Value in variable3 is Data Science\n",
      "10\n",
      "20\n"
     ]
    }
   ],
   "source": [
    "class TestClass:\n",
    "    __var1 = 10000                               # Private class Variable\n",
    "    \n",
    "    def __init__(self,a,b):\n",
    "        print(\"Test Class INIT Function\")\n",
    "        \n",
    "        var2 = 'python'                      # Local Variable\n",
    "        self.__var3 = 'Data Science'           # private instance Variable\n",
    "        self.__a = a\n",
    "        self.__b = b\n",
    "        \n",
    "    def display(self):\n",
    "        print(\"Value in Variable1 is\",self.__var1)\n",
    "        print(\"Value in variable3 is\",self.__var3)\n",
    "        print(self.__a)\n",
    "        print(self.__b)\n",
    "        \n",
    "Obj = TestClass(10,20)\n",
    "Obj.__var3 = 'Machine Learning'\n",
    "Obj.display()"
   ]
  },
  {
   "cell_type": "markdown",
   "id": "instrumental-horror",
   "metadata": {},
   "source": [
    "### Private Methods"
   ]
  },
  {
   "cell_type": "code",
   "execution_count": 37,
   "id": "infinite-measurement",
   "metadata": {},
   "outputs": [
    {
     "name": "stdout",
     "output_type": "stream",
     "text": [
      "Test Class INIT Function\n",
      "This is Method 1\n",
      "This is Method 2\n"
     ]
    }
   ],
   "source": [
    "class TestClass:\n",
    "    __var1 = 10000                               # Private class Variable\n",
    "    \n",
    "    def __init__(self,a,b):\n",
    "        print(\"Test Class INIT Function\")\n",
    "        \n",
    "        var2 = 'python'                      # Local Variable\n",
    "        self.__var3 = 'Data Science'           # private instance Variable\n",
    "        self.__a = a\n",
    "        self.__b = b\n",
    "        \n",
    "    def method1(self):                       # Public Method\n",
    "        print(\"This is Method 1\")\n",
    "        \n",
    "    def method2(self):                       # Public Method\n",
    "        print(\"This is Method 2\")\n",
    "        \n",
    "    def display(self):\n",
    "        print(\"Value in Variable1 is\",self.__var1)\n",
    "        print(\"Value in variable3 is\",self.__var3)\n",
    "        print(self.__a)\n",
    "        print(self.__b)\n",
    "        \n",
    "Obj = TestClass(10,20)\n",
    "Obj.method1()\n",
    "Obj.method2()"
   ]
  },
  {
   "cell_type": "code",
   "execution_count": 39,
   "id": "latest-least",
   "metadata": {},
   "outputs": [
    {
     "name": "stdout",
     "output_type": "stream",
     "text": [
      "Test Class INIT Function\n"
     ]
    },
    {
     "ename": "AttributeError",
     "evalue": "'TestClass' object has no attribute '__method1'",
     "output_type": "error",
     "traceback": [
      "\u001b[1;31m---------------------------------------------------------------------------\u001b[0m",
      "\u001b[1;31mAttributeError\u001b[0m                            Traceback (most recent call last)",
      "\u001b[1;32m<ipython-input-39-8a36261c2f34>\u001b[0m in \u001b[0;36m<module>\u001b[1;34m\u001b[0m\n\u001b[0;32m     23\u001b[0m \u001b[1;33m\u001b[0m\u001b[0m\n\u001b[0;32m     24\u001b[0m \u001b[0mObj\u001b[0m \u001b[1;33m=\u001b[0m \u001b[0mTestClass\u001b[0m\u001b[1;33m(\u001b[0m\u001b[1;36m10\u001b[0m\u001b[1;33m,\u001b[0m\u001b[1;36m20\u001b[0m\u001b[1;33m)\u001b[0m\u001b[1;33m\u001b[0m\u001b[1;33m\u001b[0m\u001b[0m\n\u001b[1;32m---> 25\u001b[1;33m \u001b[0mObj\u001b[0m\u001b[1;33m.\u001b[0m\u001b[0m__method1\u001b[0m\u001b[1;33m(\u001b[0m\u001b[1;33m)\u001b[0m\u001b[1;33m\u001b[0m\u001b[1;33m\u001b[0m\u001b[0m\n\u001b[0m\u001b[0;32m     26\u001b[0m \u001b[1;31m# Obj.method2()\u001b[0m\u001b[1;33m\u001b[0m\u001b[1;33m\u001b[0m\u001b[1;33m\u001b[0m\u001b[0m\n",
      "\u001b[1;31mAttributeError\u001b[0m: 'TestClass' object has no attribute '__method1'"
     ]
    }
   ],
   "source": [
    "class TestClass:\n",
    "    __var1 = 10000                               # Private class Variable\n",
    "    \n",
    "    def __init__(self,a,b):\n",
    "        print(\"Test Class INIT Function\")\n",
    "        \n",
    "        var2 = 'python'                      # Local Variable\n",
    "        self.__var3 = 'Data Science'           # private instance Variable\n",
    "        self.__a = a\n",
    "        self.__b = b\n",
    "        \n",
    "    def __method1(self):                       # private Method\n",
    "        print(\"This is Method 1\")\n",
    "        \n",
    "    def __method2(self):                       # private Method\n",
    "        print(\"This is Method 2\")\n",
    "        \n",
    "    def display(self):\n",
    "        print(\"Value in Variable1 is\",self.__var1)\n",
    "        print(\"Value in variable3 is\",self.__var3)\n",
    "        print(self.__a)\n",
    "        print(self.__b)\n",
    "        \n",
    "Obj = TestClass(10,20)\n",
    "Obj.__method1()  \n",
    "# Obj.method2()"
   ]
  },
  {
   "cell_type": "code",
   "execution_count": 42,
   "id": "unknown-terry",
   "metadata": {},
   "outputs": [
    {
     "name": "stdout",
     "output_type": "stream",
     "text": [
      "Test Class INIT Function\n",
      "Value in Variable1 is 10000\n",
      "Value in variable3 is Data Science\n",
      "10\n",
      "20\n",
      "This is Method 1\n",
      "This is Method 2\n"
     ]
    }
   ],
   "source": [
    "class TestClass:\n",
    "    __var1 = 10000                               # Private class Variable\n",
    "    \n",
    "    def __init__(self,a,b):\n",
    "        print(\"Test Class INIT Function\")\n",
    "        \n",
    "        var2 = 'python'                      # Local Variable\n",
    "        self.__var3 = 'Data Science'           # private instance Variable\n",
    "        self.__a = a\n",
    "        self.__b = b\n",
    "        \n",
    "    def __method1(self):                       # private Method\n",
    "        print(\"This is Method 1\")\n",
    "        \n",
    "    def __method2(self):                       # private Method\n",
    "        print(\"This is Method 2\")\n",
    "        \n",
    "    def display(self):\n",
    "        print(\"Value in Variable1 is\",self.__var1)\n",
    "        print(\"Value in variable3 is\",self.__var3)\n",
    "        print(self.__a)\n",
    "        print(self.__b)\n",
    "        self.__method1()\n",
    "        self.__method2()\n",
    "        \n",
    "Obj = TestClass(10,20)\n",
    "Obj.display()"
   ]
  },
  {
   "cell_type": "markdown",
   "id": "hairy-union",
   "metadata": {},
   "source": [
    "# Name Mangling "
   ]
  },
  {
   "cell_type": "raw",
   "id": "balanced-range",
   "metadata": {},
   "source": [
    "To access/modify private variables and methods from outside the class\n",
    "\n",
    "Obj._ClassName__Identifier"
   ]
  },
  {
   "cell_type": "code",
   "execution_count": 51,
   "id": "absolute-enclosure",
   "metadata": {},
   "outputs": [
    {
     "name": "stdout",
     "output_type": "stream",
     "text": [
      "Test Class INIT Function\n",
      "Value in Variable1 is 10000\n",
      "Value in variable3 is Deep Learning\n",
      "10\n",
      "20\n",
      "This is Method 1\n",
      "This is Method 2\n"
     ]
    }
   ],
   "source": [
    "class TestClass:\n",
    "    __var1 = 10000                               # Private class Variable\n",
    "    \n",
    "    def __init__(self,a,b):\n",
    "        print(\"Test Class INIT Function\")\n",
    "        \n",
    "        var2 = 'python'                      # Local Variable\n",
    "        self.__var3 = 'Data Science'           # private instance Variable\n",
    "        self.__a = a\n",
    "        self.__b = b\n",
    "        \n",
    "    def __method1(self):                       # private Method\n",
    "        print(\"This is Method 1\")\n",
    "        \n",
    "    def __method2(self):                       # private Method\n",
    "        print(\"This is Method 2\")\n",
    "        \n",
    "    def display(self):\n",
    "        print(\"Value in Variable1 is\",self.__var1)\n",
    "        print(\"Value in variable3 is\",self.__var3)\n",
    "        print(self.__a)\n",
    "        print(self.__b)\n",
    "        self.__method1()\n",
    "        self.__method2()\n",
    "        \n",
    "Obj = TestClass(10,20)\n",
    "Obj._TestClass__var3 = \"Deep Learning\"\n",
    "Obj.display()"
   ]
  },
  {
   "cell_type": "code",
   "execution_count": 61,
   "id": "grateful-header",
   "metadata": {},
   "outputs": [
    {
     "name": "stdout",
     "output_type": "stream",
     "text": [
      "Test Class INIT Function\n",
      "a:: 500\n",
      "b:: 20\n"
     ]
    }
   ],
   "source": [
    "class TestClass:\n",
    "    __var1 = 10000                               # Private class Variable\n",
    "    \n",
    "    def __init__(self,a,b):\n",
    "        print(\"Test Class INIT Function\")\n",
    "        \n",
    "        var2 = 'python'                      # Local Variable\n",
    "        self.__var3 = 'Data Science'           # private instance Variable\n",
    "        self.__a = a\n",
    "        self.b = b                       # Public instance variable\n",
    "        \n",
    "    def __method1(self):                       # private Method\n",
    "        print(\"This is Method 1\")\n",
    "        \n",
    "    def __method2(self):                       # private Method\n",
    "        print(\"This is Method 2\")\n",
    "        \n",
    "    def display(self):\n",
    "        print(\"a::\",self.__a)\n",
    "        print(\"b::\",self.b)\n",
    "\n",
    "        \n",
    "Obj = TestClass(10,20)\n",
    "Obj.b\n",
    "Obj._TestClass__a = 500\n",
    "Obj.display()"
   ]
  },
  {
   "cell_type": "code",
   "execution_count": 63,
   "id": "peripheral-planning",
   "metadata": {},
   "outputs": [
    {
     "name": "stdout",
     "output_type": "stream",
     "text": [
      "Test Class INIT Function\n"
     ]
    },
    {
     "data": {
      "text/plain": [
       "10000"
      ]
     },
     "execution_count": 63,
     "metadata": {},
     "output_type": "execute_result"
    }
   ],
   "source": [
    "class TestClass:\n",
    "    _var1 = 10000                               # public class Variable\n",
    "    \n",
    "    def __init__(self,a,b):\n",
    "        print(\"Test Class INIT Function\")\n",
    "        \n",
    "        var2 = 'python'                      # Local Variable\n",
    "        self.__var3 = 'Data Science'           # private instance Variable\n",
    "        self.__a = a\n",
    "        self.b = b                       # Public instance variable\n",
    "        \n",
    "    def __method1(self):                       # private Method\n",
    "        print(\"This is Method 1\")\n",
    "        \n",
    "    def __method2(self):                       # private Method\n",
    "        print(\"This is Method 2\")\n",
    "        \n",
    "    def display(self):\n",
    "        print(\"a::\",self.__a)\n",
    "        print(\"b::\",self.b)\n",
    "        \n",
    "Obj = TestClass(10,20)\n",
    "Obj._var1"
   ]
  },
  {
   "cell_type": "code",
   "execution_count": null,
   "id": "immune-virtue",
   "metadata": {},
   "outputs": [],
   "source": []
  }
 ],
 "metadata": {
  "kernelspec": {
   "display_name": "Python 3 (ipykernel)",
   "language": "python",
   "name": "python3"
  },
  "language_info": {
   "codemirror_mode": {
    "name": "ipython",
    "version": 3
   },
   "file_extension": ".py",
   "mimetype": "text/x-python",
   "name": "python",
   "nbconvert_exporter": "python",
   "pygments_lexer": "ipython3",
   "version": "3.9.7"
  }
 },
 "nbformat": 4,
 "nbformat_minor": 5
}
