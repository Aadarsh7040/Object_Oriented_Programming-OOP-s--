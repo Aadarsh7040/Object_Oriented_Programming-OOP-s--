{
 "cells": [
  {
   "cell_type": "code",
   "execution_count": null,
   "id": "4cfeabf4",
   "metadata": {},
   "outputs": [],
   "source": [
    "vehicle data\n",
    "To find mileage (km/litre)\n",
    "\n",
    "1.Distance\n",
    "2.petrols in litre"
   ]
  },
  {
   "cell_type": "code",
   "execution_count": 6,
   "id": "44a80789",
   "metadata": {},
   "outputs": [
    {
     "name": "stdout",
     "output_type": "stream",
     "text": [
      "We are in init function\n",
      "Mileage is: 5.0\n"
     ]
    },
    {
     "data": {
      "text/plain": [
       "20"
      ]
     },
     "execution_count": 6,
     "metadata": {},
     "output_type": "execute_result"
    }
   ],
   "source": [
    "class Vehicle():\n",
    "    def __init__(self,Distance,litre):\n",
    "        print('We are in init function')\n",
    "        self.Distance = Distance\n",
    "        self.litre  = litre\n",
    "        \n",
    "    def mileage(self):\n",
    "        Mileage = (self.Distance)/(self.litre)\n",
    "        print('Mileage is:',Mileage)\n",
    "        \n",
    "object1 = Vehicle(100,20)\n",
    "object1.mileage()\n",
    "object1.Distance\n",
    "object1.litre"
   ]
  },
  {
   "cell_type": "code",
   "execution_count": 16,
   "id": "e268da48",
   "metadata": {},
   "outputs": [
    {
     "name": "stdout",
     "output_type": "stream",
     "text": [
      "Mileage is: 5.0\n"
     ]
    },
    {
     "data": {
      "text/plain": [
       "20"
      ]
     },
     "execution_count": 16,
     "metadata": {},
     "output_type": "execute_result"
    }
   ],
   "source": [
    "class Vehicle():\n",
    "        \n",
    "    def mileage(self,Distance,litre):\n",
    "        Mileage = (Distance)/(litre)\n",
    "        print('Mileage is:',Mileage)\n",
    "        self.Distance = Distance\n",
    "        self.litre = litre\n",
    "        \n",
    "object1 = Vehicle()\n",
    "object1.mileage(100,20)\n",
    "object1.Distance\n",
    "object1.litre"
   ]
  },
  {
   "cell_type": "code",
   "execution_count": null,
   "id": "76c4c198",
   "metadata": {},
   "outputs": [],
   "source": []
  },
  {
   "cell_type": "code",
   "execution_count": null,
   "id": "68abd298",
   "metadata": {},
   "outputs": [],
   "source": []
  },
  {
   "cell_type": "code",
   "execution_count": null,
   "id": "737d9c6f",
   "metadata": {},
   "outputs": [],
   "source": []
  },
  {
   "cell_type": "code",
   "execution_count": null,
   "id": "b49526af",
   "metadata": {},
   "outputs": [],
   "source": []
  },
  {
   "cell_type": "code",
   "execution_count": null,
   "id": "e2980489",
   "metadata": {},
   "outputs": [],
   "source": []
  },
  {
   "cell_type": "code",
   "execution_count": null,
   "id": "66c2095e",
   "metadata": {},
   "outputs": [],
   "source": []
  },
  {
   "cell_type": "code",
   "execution_count": null,
   "id": "5212647d",
   "metadata": {},
   "outputs": [],
   "source": []
  },
  {
   "cell_type": "code",
   "execution_count": null,
   "id": "656fd59d",
   "metadata": {},
   "outputs": [],
   "source": []
  },
  {
   "cell_type": "code",
   "execution_count": null,
   "id": "86147dfe",
   "metadata": {},
   "outputs": [],
   "source": []
  }
 ],
 "metadata": {
  "kernelspec": {
   "display_name": "Python 3 (ipykernel)",
   "language": "python",
   "name": "python3"
  },
  "language_info": {
   "codemirror_mode": {
    "name": "ipython",
    "version": 3
   },
   "file_extension": ".py",
   "mimetype": "text/x-python",
   "name": "python",
   "nbconvert_exporter": "python",
   "pygments_lexer": "ipython3",
   "version": "3.9.7"
  }
 },
 "nbformat": 4,
 "nbformat_minor": 5
}
