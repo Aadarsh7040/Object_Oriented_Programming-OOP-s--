{
 "cells": [
  {
   "cell_type": "markdown",
   "id": "southwest-bennett",
   "metadata": {},
   "source": [
    "# Abstraction"
   ]
  },
  {
   "cell_type": "code",
   "execution_count": null,
   "id": "civil-lexington",
   "metadata": {},
   "outputs": [],
   "source": [
    "Blueprint of your project\n",
    "Blueprint of other classes\n",
    "\n",
    "We can not create an object of abstract class\n",
    "\n",
    "Abstract class is only used for declaration, does not used for implementation\n",
    "\n",
    "@abstractmethod decorator is used to define abstract method\n",
    "\n",
    "It is used to hide internal functinality of the function"
   ]
  },
  {
   "cell_type": "code",
   "execution_count": null,
   "id": "eligible-printing",
   "metadata": {},
   "outputs": [],
   "source": [
    "import abc"
   ]
  },
  {
   "cell_type": "code",
   "execution_count": 2,
   "id": "graduate-inspiration",
   "metadata": {},
   "outputs": [],
   "source": [
    "class BaseClass:\n",
    "    pass\n",
    "\n",
    "class DerivedClass(BaseClass):\n",
    "    pass\n",
    "\n",
    "derivedObj = DerivedClass()\n",
    "baseObj = BaseClass()"
   ]
  },
  {
   "cell_type": "code",
   "execution_count": 6,
   "id": "excessive-collective",
   "metadata": {},
   "outputs": [
    {
     "name": "stdout",
     "output_type": "stream",
     "text": [
      "process document API\n"
     ]
    }
   ],
   "source": [
    "class ProjectBlueprint():\n",
    "    pass\n",
    "\n",
    "class ProjectAPI(ProjectBlueprint):\n",
    "    def registration(self):\n",
    "        print(\"Registration Function\")\n",
    "\n",
    "    def login(self):\n",
    "        print(\"Login API\")\n",
    "        \n",
    "    def forget_password(self):\n",
    "        print(\"Forget Password API\")\n",
    "        \n",
    "    def process_document(self):\n",
    "        print(\"process document API\")\n",
    "        \n",
    "    def result(self):\n",
    "        print(\"Result API\")\n",
    "\n",
    "Obj = ProjectAPI()\n",
    "Obj.process_document()"
   ]
  },
  {
   "cell_type": "code",
   "execution_count": 16,
   "id": "alive-stability",
   "metadata": {},
   "outputs": [],
   "source": [
    "from abc import ABC, abstractmethod\n",
    "\n",
    "class ProjectBlueprint(ABC):                # Abstract Class\n",
    "    @abstractmethod                         # Decorator\n",
    "    def registration(self):\n",
    "        pass\n",
    "\n",
    "    @abstractmethod\n",
    "    def login(self):                  # abstract method\n",
    "        pass\n",
    "        \n",
    "    @abstractmethod\n",
    "    def forget_password(self):        # normal method\n",
    "        pass\n",
    "        \n",
    "    def process_document(self):\n",
    "        pass\n",
    "\n",
    "class ProjectAPI(ProjectBlueprint):\n",
    "    def registration(self):\n",
    "        print(\"Registration Function\")\n",
    "\n",
    "    def login(self):\n",
    "        print(\"Login API\")\n",
    "    \n",
    "    def forget_password(self):\n",
    "        print(\"Forget Password API\")\n",
    "    \"\"\"   \n",
    "    def process_document(self):\n",
    "        print(\"process document API\")\n",
    "        \n",
    "    def result(self):\n",
    "        print(\"Result API\")\n",
    "    \"\"\"\n",
    "# Obj = ProjectBlueprint()      \n",
    "Obj = ProjectAPI()"
   ]
  },
  {
   "cell_type": "code",
   "execution_count": 47,
   "id": "unusual-serbia",
   "metadata": {},
   "outputs": [
    {
     "name": "stdout",
     "output_type": "stream",
     "text": [
      "Forget Password API\n"
     ]
    }
   ],
   "source": [
    "from abc import ABC, abstractmethod\n",
    "\n",
    "class ProjectBlueprint(ABC):                # Abstract Class\n",
    "    \n",
    "    @abstractmethod                         # Decorator\n",
    "    def registration(self):\n",
    "        pass\n",
    "    \n",
    "    @abstractmethod\n",
    "    def login(self):pass\n",
    "    \n",
    "    @abstractmethod\n",
    "    def forget_password(self): pass\n",
    "        \n",
    "    @abstractmethod \n",
    "    def process_document(self):pass\n",
    "\n",
    "class ProjectAPI(ProjectBlueprint):\n",
    "    \n",
    "    def login(self):\n",
    "        print(\"Login API\")\n",
    "    \n",
    "    def forget_password(self):\n",
    "        print(\"Forget Password API\")\n",
    "        \n",
    "    def registration(self):\n",
    "        print(\"Registration Function\")\n",
    "\n",
    "    def process_document(self):\n",
    "        print(\"process document API\")\n",
    "        \n",
    "    def result(self):\n",
    "        print(\"Result API\")\n",
    "\n",
    "# Obj = ProjectBlueprint()      \n",
    "Obj = ProjectAPI()\n",
    "Obj.forget_password()"
   ]
  },
  {
   "cell_type": "code",
   "execution_count": 32,
   "id": "medium-morris",
   "metadata": {},
   "outputs": [
    {
     "name": "stdout",
     "output_type": "stream",
     "text": [
      "Cube class init Function\n",
      "Volume of Cube is : 216\n"
     ]
    }
   ],
   "source": [
    "class Shape(ABC):\n",
    "    @abstractmethod\n",
    "    def volume(self):\n",
    "        pass\n",
    "    \n",
    "    def area(self):\n",
    "        pass\n",
    "    \n",
    "class Cube(Shape):\n",
    "    def __init__(self,side):\n",
    "        print(\"Cube class init Function\")\n",
    "        self.side = side\n",
    "\n",
    "    def volume(self):\n",
    "        vol = self.side ** 3\n",
    "        print(\"Volume of Cube is :\",vol)\n",
    "    \n",
    "c1 = Cube(6)\n",
    "c1.volume()"
   ]
  },
  {
   "cell_type": "code",
   "execution_count": 40,
   "id": "composite-sending",
   "metadata": {},
   "outputs": [
    {
     "name": "stdout",
     "output_type": "stream",
     "text": [
      "Cube class init Function\n",
      "Volume of Cube is : 216\n",
      "Area of Cube is : 216\n"
     ]
    },
    {
     "data": {
      "text/plain": [
       "216"
      ]
     },
     "execution_count": 40,
     "metadata": {},
     "output_type": "execute_result"
    }
   ],
   "source": [
    "class Shape(ABC):\n",
    "    @abstractmethod\n",
    "    def volume(self):\n",
    "        pass\n",
    "    \n",
    "    @abstractmethod\n",
    "    def area(self):\n",
    "        pass\n",
    "    \n",
    "class Cube(Shape):\n",
    "    def __init__(self,side):\n",
    "        print(\"Cube class init Function\")\n",
    "        self.side = side\n",
    "\n",
    "    def volume(self,a,b):\n",
    "        vol = self.side ** 3\n",
    "        print(\"Volume of Cube is :\",vol)\n",
    "        return vol\n",
    "    \n",
    "    def area(self):\n",
    "        ar = 6 * self.side * self.side\n",
    "        print(\"Area of Cube is :\",ar)\n",
    "        return ar\n",
    "        \n",
    "c1 = Cube(6)\n",
    "c1.volume(5,6)\n",
    "c1.area()"
   ]
  },
  {
   "cell_type": "code",
   "execution_count": 53,
   "id": "preliminary-thread",
   "metadata": {},
   "outputs": [
    {
     "name": "stdout",
     "output_type": "stream",
     "text": [
      "Triangle has 3 sides\n",
      "Hexagon has 6 sides\n"
     ]
    },
    {
     "ename": "NameError",
     "evalue": "name 'xyz' is not defined",
     "output_type": "error",
     "traceback": [
      "\u001b[1;31m---------------------------------------------------------------------------\u001b[0m",
      "\u001b[1;31mNameError\u001b[0m                                 Traceback (most recent call last)",
      "\u001b[1;32m<ipython-input-53-14e258b1c070>\u001b[0m in \u001b[0;36m<module>\u001b[1;34m\u001b[0m\n\u001b[0;32m     25\u001b[0m \u001b[0mh1\u001b[0m \u001b[1;33m=\u001b[0m \u001b[0mHexagon\u001b[0m\u001b[1;33m(\u001b[0m\u001b[1;33m)\u001b[0m\u001b[1;33m\u001b[0m\u001b[1;33m\u001b[0m\u001b[0m\n\u001b[0;32m     26\u001b[0m \u001b[0mh1\u001b[0m\u001b[1;33m.\u001b[0m\u001b[0msides\u001b[0m\u001b[1;33m(\u001b[0m\u001b[1;33m)\u001b[0m\u001b[1;33m\u001b[0m\u001b[1;33m\u001b[0m\u001b[0m\n\u001b[1;32m---> 27\u001b[1;33m \u001b[0mh1\u001b[0m\u001b[1;33m.\u001b[0m\u001b[0mtest_function\u001b[0m\u001b[1;33m(\u001b[0m\u001b[1;33m)\u001b[0m\u001b[1;33m\u001b[0m\u001b[1;33m\u001b[0m\u001b[0m\n\u001b[0m\u001b[0;32m     28\u001b[0m \u001b[1;33m\u001b[0m\u001b[0m\n\u001b[0;32m     29\u001b[0m \u001b[0ms1\u001b[0m \u001b[1;33m=\u001b[0m \u001b[0mSqaure\u001b[0m\u001b[1;33m(\u001b[0m\u001b[1;33m)\u001b[0m\u001b[1;33m\u001b[0m\u001b[1;33m\u001b[0m\u001b[0m\n",
      "\u001b[1;32m<ipython-input-53-14e258b1c070>\u001b[0m in \u001b[0;36mtest_function\u001b[1;34m(s1)\u001b[0m\n\u001b[0;32m     14\u001b[0m \u001b[1;33m\u001b[0m\u001b[0m\n\u001b[0;32m     15\u001b[0m     \u001b[1;32mdef\u001b[0m \u001b[0mtest_function\u001b[0m\u001b[1;33m(\u001b[0m\u001b[0ms1\u001b[0m\u001b[1;33m)\u001b[0m\u001b[1;33m:\u001b[0m\u001b[1;33m\u001b[0m\u001b[1;33m\u001b[0m\u001b[0m\n\u001b[1;32m---> 16\u001b[1;33m         \u001b[0mprint\u001b[0m\u001b[1;33m(\u001b[0m\u001b[1;34m':::::::::::;'\u001b[0m\u001b[1;33m,\u001b[0m\u001b[0mxyz\u001b[0m\u001b[1;33m.\u001b[0m\u001b[0ma\u001b[0m\u001b[1;33m)\u001b[0m\u001b[1;33m\u001b[0m\u001b[1;33m\u001b[0m\u001b[0m\n\u001b[0m\u001b[0;32m     17\u001b[0m \u001b[1;33m\u001b[0m\u001b[0m\n\u001b[0;32m     18\u001b[0m \u001b[1;32mclass\u001b[0m \u001b[0mSqaure\u001b[0m\u001b[1;33m(\u001b[0m\u001b[0mPolygon\u001b[0m\u001b[1;33m)\u001b[0m\u001b[1;33m:\u001b[0m\u001b[1;33m\u001b[0m\u001b[1;33m\u001b[0m\u001b[0m\n",
      "\u001b[1;31mNameError\u001b[0m: name 'xyz' is not defined"
     ]
    }
   ],
   "source": [
    "class Polygon(ABC):\n",
    "    @abstractmethod\n",
    "    def sides(self):\n",
    "        pass\n",
    "    \n",
    "class Triangle(Polygon):\n",
    "    def sides(self):\n",
    "        print(\"Triangle has 3 sides\")\n",
    "    \n",
    "class Hexagon(Polygon):\n",
    "    def sides(self):\n",
    "        self.a = 100\n",
    "        print(\"Hexagon has 6 sides\")\n",
    "        \n",
    "    def test_function(s1,a,b,c):\n",
    "        print(':::::::::::;',xyz.a)\n",
    "        \n",
    "class Sqaure(Polygon):\n",
    "    def sides(self):\n",
    "        print(\"Square has 4 sides\")\n",
    "\n",
    "t1 = Triangle()\n",
    "t1.sides()\n",
    "\n",
    "h1 = Hexagon()\n",
    "h1.sides()\n",
    "h1.test_function()\n",
    "h1.a\n",
    "s1 = Sqaure()\n",
    "s1.sides()"
   ]
  },
  {
   "cell_type": "code",
   "execution_count": 46,
   "id": "addressed-costs",
   "metadata": {},
   "outputs": [],
   "source": [
    "def my_fun(a,b,c):\n",
    "    pass\n",
    "my_fun(2,3,4)\n",
    "\n",
    "def my_fun(x,y,z,w):\n",
    "    pass\n",
    "\n",
    "my_fun(2,3,4,5)"
   ]
  }
 ],
 "metadata": {
  "kernelspec": {
   "display_name": "Python 3 (ipykernel)",
   "language": "python",
   "name": "python3"
  },
  "language_info": {
   "codemirror_mode": {
    "name": "ipython",
    "version": 3
   },
   "file_extension": ".py",
   "mimetype": "text/x-python",
   "name": "python",
   "nbconvert_exporter": "python",
   "pygments_lexer": "ipython3",
   "version": "3.9.7"
  }
 },
 "nbformat": 4,
 "nbformat_minor": 5
}
