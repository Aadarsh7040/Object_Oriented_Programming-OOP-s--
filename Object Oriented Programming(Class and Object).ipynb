{
 "cells": [
  {
   "cell_type": "markdown",
   "id": "optional-difference",
   "metadata": {},
   "source": [
    "# Object Oriented Programming"
   ]
  },
  {
   "cell_type": "code",
   "execution_count": null,
   "id": "structural-recall",
   "metadata": {},
   "outputs": [],
   "source": [
    "class\n",
    "object\n",
    "\n",
    "readable\n",
    "reusable\n",
    "structured way"
   ]
  },
  {
   "cell_type": "code",
   "execution_count": null,
   "id": "transsexual-inquiry",
   "metadata": {},
   "outputs": [],
   "source": [
    "Object >> Real world entities(House, Mobile, Laptop, Watch,etc)\n",
    "\n",
    "Class >> Blueprint of an object that defines variables and methods(functions)"
   ]
  },
  {
   "cell_type": "code",
   "execution_count": null,
   "id": "involved-belle",
   "metadata": {},
   "outputs": [],
   "source": [
    "Sketch:(cl)\n",
    "    house1\n",
    "    House2\n",
    "    House3\n",
    "    \n",
    "Laptop:\n",
    "    Price\n",
    "    RAM\n",
    "    ROM\n",
    "    Specification"
   ]
  },
  {
   "cell_type": "markdown",
   "id": "spare-hybrid",
   "metadata": {},
   "source": [
    "# Syntax"
   ]
  },
  {
   "cell_type": "code",
   "execution_count": 9,
   "id": "described-confusion",
   "metadata": {},
   "outputs": [
    {
     "name": "stdout",
     "output_type": "stream",
     "text": [
      "My Function\n"
     ]
    }
   ],
   "source": [
    "class ClassName():\n",
    "    my_variable = 'python'\n",
    "    \n",
    "    def my_fun(self):\n",
    "        print(\"My Function\")\n",
    "        pass\n",
    "    \n",
    "\n",
    "Obj1 = ClassName()\n",
    "Obj1.my_variable\n",
    "Obj1.my_fun()"
   ]
  },
  {
   "cell_type": "code",
   "execution_count": null,
   "id": "floppy-council",
   "metadata": {},
   "outputs": [],
   "source": []
  },
  {
   "cell_type": "code",
   "execution_count": null,
   "id": "statutory-billy",
   "metadata": {},
   "outputs": [],
   "source": [
    "class TestClass:\n",
    "    pass\n",
    "\n",
    "Obj1 = TestClass() # Creating an instance of class\n",
    "Obj2 = TestClass() # Creating an object of class\n",
    "Obj3 = TestClass()\n"
   ]
  },
  {
   "cell_type": "code",
   "execution_count": 2,
   "id": "swedish-company",
   "metadata": {},
   "outputs": [],
   "source": [
    "class TestClass():\n",
    "    pass\n",
    "\n",
    "    def my_fun(): # method\n",
    "        pass\n"
   ]
  },
  {
   "cell_type": "code",
   "execution_count": null,
   "id": "average-facial",
   "metadata": {},
   "outputs": [],
   "source": [
    "class ClassName():\n",
    "    class_variable1 = 'python'\n",
    "    def my_method1(self):\n",
    "        pass\n",
    "    \n",
    "    def my_method2(self):\n",
    "        pass\n",
    "    "
   ]
  },
  {
   "cell_type": "code",
   "execution_count": null,
   "id": "lined-interference",
   "metadata": {},
   "outputs": [],
   "source": [
    "30 functions\n",
    "\n",
    "\n",
    "# Data Gathering\n",
    "def get_data():\n",
    "    pass\n",
    "\n",
    "\n",
    "# Preprocessing\n",
    "def handle_missing_values():\n",
    "    pass\n",
    "    return\n",
    "\n",
    "def handle_outliers():\n",
    "    pass\n",
    "\n",
    "def get_normalization():\n",
    "    pass\n",
    "\n",
    "def get_standardization():\n",
    "    pass\n",
    "\n",
    "# Model Training\n",
    "def logistic_regression():\n",
    "    pass\n",
    "\n",
    "def knn():\n",
    "    pass\n",
    "\n",
    "def decision_tree():\n",
    "    pass\n",
    "\n",
    "def random_forest():\n",
    "    pass\n",
    "\n",
    "\n",
    "# Evaluation:\n",
    "def confusion_matrix():\n",
    "    pass\n",
    "\n",
    "def classification_report():\n",
    "    pass"
   ]
  },
  {
   "cell_type": "code",
   "execution_count": null,
   "id": "manual-strain",
   "metadata": {},
   "outputs": [],
   "source": [
    "Data Gathering >> 2\n",
    "EDA  >> 10\n",
    "Feature Selection >> 5\n",
    "Model Traning >> 5\n",
    "Model Evaluation >> 3\n",
    "\n",
    "25 Functions"
   ]
  },
  {
   "cell_type": "code",
   "execution_count": null,
   "id": "happy-miller",
   "metadata": {},
   "outputs": [],
   "source": [
    "class DataGathering():\n",
    "    def get_data(self):\n",
    "        pass\n",
    "\n",
    "class Preprocessing:\n",
    "    def handle_outliers(self):\n",
    "        pass\n",
    "\n",
    "    def get_normalization(self):\n",
    "        pass\n",
    "\n",
    "    def get_standardization(self):\n",
    "        pass\n",
    "    \n",
    "    \n",
    "class ModelTraining():\n",
    "    def logistic_regression(self):\n",
    "        pass\n",
    "\n",
    "    def knn(self):\n",
    "        pass\n",
    "\n",
    "    def decision_tree(self):\n",
    "        pass\n",
    "\n",
    "    def random_forest(self):\n",
    "        pass\n",
    "\n",
    "class ModelEvaluation():\n",
    "    def confusion_matrix(self):\n",
    "        pass\n",
    "\n",
    "    def classification_report(self):\n",
    "        pass\n",
    "    \n",
    "    def accuracy_score(self):\n",
    "        pass"
   ]
  },
  {
   "cell_type": "code",
   "execution_count": 13,
   "id": "invisible-update",
   "metadata": {},
   "outputs": [
    {
     "name": "stdout",
     "output_type": "stream",
     "text": [
      "Data\n"
     ]
    }
   ],
   "source": [
    "# Data Gathering\n",
    "class DataGathering():\n",
    "    def get_data(self):\n",
    "        print(\"Data\")\n",
    "        pass\n",
    "    \n",
    "# Instantiating DataGathering class\n",
    "dataObj = DataGathering()\n",
    "dataObj.get_data()"
   ]
  },
  {
   "cell_type": "code",
   "execution_count": 19,
   "id": "smaller-soccer",
   "metadata": {},
   "outputs": [
    {
     "name": "stdout",
     "output_type": "stream",
     "text": [
      "a ==10, b ==20\n"
     ]
    }
   ],
   "source": [
    "class Preprocessing:\n",
    "    def handle_outliers(self,a,b):\n",
    "        print(f\"a =={a}, b =={ b}\")\n",
    "        pass\n",
    "\n",
    "    def get_normalization(self):\n",
    "        pass\n",
    "\n",
    "    def get_standardization(self):\n",
    "        pass\n",
    "    \n",
    "Obj = Preprocessing()\n",
    "Obj.handle_outliers(10,20)"
   ]
  },
  {
   "cell_type": "markdown",
   "id": "fundamental-driving",
   "metadata": {},
   "source": [
    "# Class Structure"
   ]
  },
  {
   "cell_type": "code",
   "execution_count": 2,
   "id": "competitive-green",
   "metadata": {},
   "outputs": [
    {
     "name": "stdout",
     "output_type": "stream",
     "text": [
      "This is my Method 1\n",
      "Pune\n",
      "This is my Method 2\n",
      "This is my Method 1\n",
      "self.city_name Pune\n",
      "self.x python\n",
      "data science\n"
     ]
    }
   ],
   "source": [
    "a = 100                       # global variable\n",
    "\n",
    "class ClassName():            # class name\n",
    "    x = 'python'              # class variable \n",
    "    y = 'data science'        # class variable \n",
    "    z = 200                   # class variable \n",
    "    \n",
    "    def my_method1(self):     # method 1 \n",
    "        print(\"This is my Method 1\")\n",
    "        var1 = 'machine learning'  # local variable\n",
    "        self.city_name = 'Pune'    # instance variable 1\n",
    "        self.state  =  'Maharashtra'  # instance variable 2\n",
    "        \n",
    "    def my_method2(self):\n",
    "        print(\"This is my Method 2\")\n",
    "        var2 = 300\n",
    "        self.my_method1()\n",
    "        print('self.city_name',self.city_name)\n",
    "        print('self.x',self.x)\n",
    "        print(self.y)\n",
    "\n",
    "Obj = ClassName()  # Creating an object of class\n",
    "Obj.my_method1() # calling function/method\n",
    "print(Obj.city_name)\n",
    "Obj.my_method2()"
   ]
  },
  {
   "cell_type": "markdown",
   "id": "outstanding-claim",
   "metadata": {},
   "source": [
    "# Employee Details"
   ]
  },
  {
   "cell_type": "code",
   "execution_count": 1,
   "id": "growing-genre",
   "metadata": {},
   "outputs": [
    {
     "name": "stdout",
     "output_type": "stream",
     "text": [
      "Pune\n",
      "We are in company name function\n",
      "Company Name is : Capgemini\n"
     ]
    }
   ],
   "source": [
    "class EmployeeDetails():\n",
    "    location = 'Pune'\n",
    "    \n",
    "    def employee_name(self):\n",
    "        pass\n",
    "    \n",
    "    def employee_salary(self):\n",
    "        pass\n",
    "    \n",
    "    def company_name(self,company):\n",
    "        print(\"We are in company name function\")\n",
    "        print(\"Company Name is :\",company)\n",
    "    \n",
    "    def employee_designation(self):\n",
    "        pass\n",
    "    \n",
    "empObj = EmployeeDetails()\n",
    "print(empObj.location)\n",
    "empObj.company_name('Capgemini')"
   ]
  },
  {
   "cell_type": "code",
   "execution_count": 37,
   "id": "reduced-amateur",
   "metadata": {},
   "outputs": [
    {
     "name": "stdout",
     "output_type": "stream",
     "text": [
      "We are in init function\n",
      "******************************\n"
     ]
    }
   ],
   "source": [
    "class EmployeeDetails():\n",
    "    location = 'Pune'\n",
    "    \n",
    "    def __init__(self): # It will execute automatically when we are creating an object\n",
    "        print(\"We are in init function\")\n",
    "    \n",
    "    def employee_name(self):\n",
    "        pass\n",
    "    \n",
    "    def employee_salary(self):\n",
    "        pass\n",
    "    \n",
    "    def company_name(self):\n",
    "        print(\"We are in company name function\")\n",
    "        print(\"Company Name is :\",company)\n",
    "    \n",
    "    def employee_designation(self):\n",
    "        pass\n",
    "    \n",
    "empObj = EmployeeDetails()\n",
    "print(\"*\"*30)\n"
   ]
  },
  {
   "cell_type": "code",
   "execution_count": 40,
   "id": "accessible-rabbit",
   "metadata": {},
   "outputs": [
    {
     "name": "stdout",
     "output_type": "stream",
     "text": [
      "**************************************************\n",
      "We are in init function\n",
      "emp_name == Rohit\n",
      "salary == 80000\n",
      "company_name == Wipro\n",
      "designation == Data Scientist\n",
      "**************************************************\n"
     ]
    }
   ],
   "source": [
    "class EmployeeDetails():\n",
    "    location = 'Pune'\n",
    "    \n",
    "    def __init__(self,emp_name,salary,company_name,designation): \n",
    "        \n",
    "        print(\"We are in init function\")\n",
    "        print(f\"emp_name == {emp_name}\")\n",
    "        print(f\"salary == {salary}\")\n",
    "        print(f\"company_name == {company_name}\")\n",
    "        print(f\"designation == {designation}\")\n",
    "    \n",
    "    def employee_name(self):\n",
    "        pass\n",
    "    \n",
    "    def employee_salary(self):\n",
    "        pass\n",
    "    \n",
    "    def company_name(self):\n",
    "        print(\"We are in company name function\")\n",
    "        print(\"Company Name is :\",company)\n",
    "    \n",
    "    def employee_designation(self):\n",
    "        pass\n",
    "    \n",
    "print(\"*\"*50)\n",
    "empObj = EmployeeDetails('Rohit',80000,'Wipro','Data Scientist')\n",
    "print(\"*\"*50)\n"
   ]
  },
  {
   "cell_type": "markdown",
   "id": "black-broadway",
   "metadata": {},
   "source": [
    "### init"
   ]
  },
  {
   "cell_type": "code",
   "execution_count": null,
   "id": "disciplinary-jewelry",
   "metadata": {},
   "outputs": [],
   "source": [
    "It will execute automatically when we are creating an object"
   ]
  },
  {
   "cell_type": "code",
   "execution_count": 45,
   "id": "textile-commissioner",
   "metadata": {},
   "outputs": [
    {
     "name": "stdout",
     "output_type": "stream",
     "text": [
      "**************************************************\n",
      "We are in init function\n",
      "emp_name == Rohit\n",
      "salary == 80000\n",
      "company_name == Wipro\n",
      "designation == Data Scientist\n",
      "**************************************************\n",
      "Employee Name is : Rohit\n"
     ]
    }
   ],
   "source": [
    "class EmployeeDetails():\n",
    "    location = 'Pune'\n",
    "    \n",
    "    def __init__(self,emp_name,salary,company_name,designation): \n",
    "        \n",
    "        print(\"We are in init function\")\n",
    "        print(f\"emp_name == {emp_name}\")\n",
    "        print(f\"salary == {salary}\")\n",
    "        print(f\"company_name == {company_name}\")\n",
    "        print(f\"designation == {designation}\")\n",
    "        \n",
    "        self.emp_name = emp_name\n",
    "    \n",
    "    def employee_name(self):\n",
    "        print(\"Employee Name is :\",self.emp_name)\n",
    "    \n",
    "    def employee_salary(self):\n",
    "        pass\n",
    "    \n",
    "    def company_name(self):\n",
    "        print(\"We are in company name function\")\n",
    "        print(\"Company Name is :\",company)\n",
    "    \n",
    "    def employee_designation(self):\n",
    "        pass\n",
    "    \n",
    "print(\"*\"*50)\n",
    "empObj = EmployeeDetails('Rohit',80000,'Wipro','Data Scientist')\n",
    "print(\"*\"*50)\n",
    "\n",
    "empObj.employee_name()"
   ]
  },
  {
   "cell_type": "code",
   "execution_count": 53,
   "id": "happy-determination",
   "metadata": {},
   "outputs": [
    {
     "name": "stdout",
     "output_type": "stream",
     "text": [
      "**************************************************\n",
      "We are in init function\n",
      "emp_name == Rohit\n",
      "salary == 80000\n",
      "company_name == Wipro\n",
      "**************************************************\n",
      "Employee Name is : Rohit\n",
      "Salary of an employee is : 80000\n",
      "Employee Designation is : Data scientist\n"
     ]
    }
   ],
   "source": [
    "class EmployeeDetails():\n",
    "    location = 'Pune'\n",
    "    \n",
    "    def __init__(self,emp_name,salary,company_name): \n",
    "        \n",
    "        print(\"We are in init function\")\n",
    "        print(f\"emp_name == {emp_name}\")\n",
    "        print(f\"salary == {salary}\")\n",
    "        print(f\"company_name == {company_name}\")\n",
    "        \n",
    "        self.name = emp_name\n",
    "        self.sal = salary\n",
    "    \n",
    "    def employee_name(self):\n",
    "        print(\"Employee Name is :\",self.name)\n",
    "    \n",
    "    def employee_salary(self):\n",
    "        print(\"Salary of an employee is :\",self.sal)\n",
    "        self.designation = 'Data scientist'\n",
    "    \n",
    "    def company_name(self):\n",
    "        print(\"We are in company name function\")\n",
    "        print(\"Company Name is :\",company)\n",
    "    \n",
    "    def employee_designation(self):\n",
    "        print(\"Employee Designation is :\",self.designation)\n",
    "    \n",
    "print(\"*\"*50)\n",
    "empObj = EmployeeDetails('Rohit',80000,'Wipro')\n",
    "print(\"*\"*50)\n",
    "\n",
    "empObj.employee_name()\n",
    "empObj.employee_salary()\n",
    "empObj.employee_designation()"
   ]
  },
  {
   "cell_type": "code",
   "execution_count": 60,
   "id": "deluxe-executive",
   "metadata": {},
   "outputs": [
    {
     "name": "stdout",
     "output_type": "stream",
     "text": [
      "**************************************************\n",
      "We are in init function\n",
      "emp_name == Rohit\n",
      "salary == 80000\n",
      "company_name == Wipro\n",
      "**************************************************\n",
      "Employee Name is : Rohit\n",
      "Salary of an employee is : 80000\n",
      "Employee Designation is : Data scientist\n",
      "We are in company name function\n",
      "Company Name is : Wipro\n"
     ]
    }
   ],
   "source": [
    "class EmployeeDetails():\n",
    "    location = 'Pune'\n",
    "    \n",
    "    def __init__(self,emp_name,salary,company_name): \n",
    "        \n",
    "        print(\"We are in init function\")\n",
    "        print(f\"emp_name == {emp_name}\")\n",
    "        print(f\"salary == {salary}\")\n",
    "        print(f\"company_name == {company_name}\")\n",
    "        \n",
    "        self.name = emp_name\n",
    "        self.sal = salary\n",
    "        self.company_name = company_name\n",
    "    \n",
    "    def employee_name(self):\n",
    "        print(\"Employee Name is :\",self.name)\n",
    "    \n",
    "    def employee_salary(self):\n",
    "        print(\"Salary of an employee is :\",self.sal)\n",
    "        self.designation = 'Data scientist'\n",
    "    \n",
    "    def get_company_name(self):\n",
    "        print(\"We are in company name function\")\n",
    "        print(\"Company Name is :\",self.company_name)\n",
    "    \n",
    "    def employee_designation(self):\n",
    "        print(\"Employee Designation is :\",self.designation)\n",
    "    \n",
    "print(\"*\"*50)\n",
    "empObj = EmployeeDetails('Rohit',80000,'Wipro')\n",
    "print(\"*\"*50)\n",
    "\n",
    "empObj.employee_name()\n",
    "empObj.employee_salary()\n",
    "empObj.employee_designation()\n",
    "empObj.get_company_name()"
   ]
  },
  {
   "cell_type": "code",
   "execution_count": 58,
   "id": "generous-dependence",
   "metadata": {},
   "outputs": [
    {
     "name": "stdout",
     "output_type": "stream",
     "text": [
      "Employee Designation is : Data scientist\n"
     ]
    }
   ],
   "source": [
    "def employee_salary():\n",
    "#     print(\"Salary of an employee is :\",self.sal)\n",
    "    designation = 'Data scientist'\n",
    "    return designation\n",
    "\n",
    "def employee_designation():\n",
    "    designation = employee_salary()\n",
    "    print(\"Employee Designation is :\",designation)\n",
    "    \n",
    "employee_designation()"
   ]
  },
  {
   "cell_type": "code",
   "execution_count": null,
   "id": "bridal-ratio",
   "metadata": {},
   "outputs": [],
   "source": []
  },
  {
   "cell_type": "code",
   "execution_count": 62,
   "id": "determined-sterling",
   "metadata": {},
   "outputs": [
    {
     "name": "stdout",
     "output_type": "stream",
     "text": [
      "**************************************************\n",
      "We are in init function\n",
      "emp_name == Rohit\n",
      "salary == 80000\n",
      "company_name == Wipro\n",
      "**************************************************\n",
      "Employee Name is : Rohit\n",
      "Salary of an employee is : 80000\n",
      "Employee Designation is : Data scientist\n",
      "We are in company name function\n",
      "Company Name is : Wipro\n",
      "Company Location is : Pune\n"
     ]
    }
   ],
   "source": [
    "class EmployeeDetails():\n",
    "    location = 'Pune'\n",
    "    \n",
    "    def __init__(self,emp_name,salary,company_name): \n",
    "        print(\"We are in init function\")\n",
    "        print(f\"emp_name == {emp_name}\")\n",
    "        print(f\"salary == {salary}\")\n",
    "        print(f\"company_name == {company_name}\")\n",
    "        \n",
    "        self.name = emp_name\n",
    "        self.sal = salary\n",
    "        self.company_name = company_name\n",
    "    \n",
    "    def employee_name(self):\n",
    "        print(\"Employee Name is :\",self.name)\n",
    "    \n",
    "    def employee_salary(self):\n",
    "        print(\"Salary of an employee is :\",self.sal)\n",
    "        self.designation = 'Data scientist'\n",
    "    \n",
    "    def get_company_name(self):\n",
    "        print(\"We are in company name function\")\n",
    "        print(\"Company Name is :\",self.company_name)\n",
    "        print(\"Company Location is :\",self.location)\n",
    "    \n",
    "    def employee_designation(self):\n",
    "        print(\"Employee Designation is :\",self.designation)\n",
    "    \n",
    "print(\"*\"*50)\n",
    "empObj = EmployeeDetails('Rohit',80000,'Wipro')\n",
    "print(\"*\"*50)\n",
    "\n",
    "empObj.employee_name()\n",
    "empObj.employee_salary()\n",
    "empObj.employee_designation()\n",
    "empObj.get_company_name()"
   ]
  },
  {
   "cell_type": "code",
   "execution_count": 74,
   "id": "determined-donor",
   "metadata": {},
   "outputs": [
    {
     "name": "stdout",
     "output_type": "stream",
     "text": [
      "**************************************************\n",
      "We are in init function\n",
      "emp_name == Rohit\n",
      "salary == 80000\n",
      "company_name == Wipro\n",
      "**************************************************\n",
      "Wipro\n",
      "**************************************************\n",
      "Employee Name is : Rohit\n",
      "Company Location is : Pune\n",
      "Salary of an employee is : 80000\n",
      "Employee Designation is : Data scientist\n",
      "--------------------------------------------------\n",
      "location ::::::::  Pune\n",
      "--------------------------------------------------\n",
      "We are in company name function\n",
      "Company Name is : TCS\n",
      "Company Location is : Mumbai\n"
     ]
    }
   ],
   "source": [
    "class EmployeeDetails():\n",
    "    location = 'Pune'\n",
    "    \n",
    "    def __init__(self,emp_name,salary,company_name): \n",
    "        print(\"We are in init function\")\n",
    "        print(f\"emp_name == {emp_name}\")\n",
    "        print(f\"salary == {salary}\")\n",
    "        print(f\"company_name == {company_name}\")\n",
    "        \n",
    "        self.name = emp_name\n",
    "        self.sal = salary\n",
    "        self.company_name = company_name\n",
    "    \n",
    "    def employee_name(self):\n",
    "        print(\"Employee Name is :\",self.name)\n",
    "        print(\"Company Location is :\",self.location)\n",
    "    \n",
    "    def employee_salary(self):\n",
    "        print(\"Salary of an employee is :\",self.sal)\n",
    "        self.designation = 'Data scientist'\n",
    "    \n",
    "    def get_company_name(self):\n",
    "        print(\"We are in company name function\")\n",
    "        print(\"Company Name is :\",self.company_name)\n",
    "        print(\"Company Location is :\",self.location)\n",
    "    \n",
    "    def employee_designation(self):\n",
    "        print(\"Employee Designation is :\",self.designation)\n",
    "    \n",
    "print(\"*\"*50)\n",
    "empObj = EmployeeDetails('Rohit',80000,'Wipro')\n",
    "print(\"*\"*50)\n",
    "\n",
    "\n",
    "print(empObj.company_name)\n",
    "empObj.company_name = 'TCS'\n",
    "print(\"*\"*50)\n",
    "\n",
    "empObj.employee_name()\n",
    "empObj.employee_salary()\n",
    "empObj.employee_designation()\n",
    "print(\"-\"*50)\n",
    "\n",
    "print(\"location :::::::: \",empObj.location)\n",
    "empObj.location = 'Mumbai'\n",
    "print(\"-\"*50)\n",
    "\n",
    "empObj.get_company_name()"
   ]
  },
  {
   "cell_type": "markdown",
   "id": "designed-michael",
   "metadata": {},
   "source": [
    "# self:"
   ]
  },
  {
   "cell_type": "code",
   "execution_count": null,
   "id": "indie-modeling",
   "metadata": {},
   "outputs": [],
   "source": [
    "1. It allows to access the variables and methods of each object\n",
    "\n",
    "2. self keyword is used to represent an instance of  given class\n",
    "\n",
    "3. It helps to distinguish between  local and instance variable"
   ]
  },
  {
   "cell_type": "code",
   "execution_count": 73,
   "id": "cathedral-region",
   "metadata": {},
   "outputs": [
    {
     "name": "stdout",
     "output_type": "stream",
     "text": [
      "5\n",
      "10\n"
     ]
    }
   ],
   "source": [
    "a = 5\n",
    "print(a)\n",
    "\n",
    "a = 10\n",
    "print(a)"
   ]
  },
  {
   "cell_type": "code",
   "execution_count": 77,
   "id": "verbal-russian",
   "metadata": {},
   "outputs": [
    {
     "name": "stdout",
     "output_type": "stream",
     "text": [
      "**************************************************\n",
      "We are in init function\n",
      "emp_name == Rohit\n",
      "company_name == Wipro\n",
      "**************************************************\n",
      "Wipro\n",
      "**************************************************\n",
      "Employee Name is : Rohit\n",
      "Company Location is : Pune\n",
      "Salary of an employee is : 70000\n",
      "Employee Designation is : Data scientist\n",
      "--------------------------------------------------\n",
      "location ::::::::  Pune\n",
      "--------------------------------------------------\n",
      "We are in company name function\n",
      "Company Name is : TCS\n",
      "Company Location is : Mumbai\n"
     ]
    }
   ],
   "source": [
    "class EmployeeDetails():\n",
    "    location = 'Pune'\n",
    "    \n",
    "    def __init__(self,emp_name,company_name): \n",
    "        print(\"We are in init function\")\n",
    "        print(f\"emp_name == {emp_name}\")\n",
    "        print(f\"company_name == {company_name}\")\n",
    "        \n",
    "        self.name = emp_name\n",
    "        self.company_name = company_name\n",
    "    \n",
    "    def employee_name(self):\n",
    "        print(\"Employee Name is :\",self.name)\n",
    "        print(\"Company Location is :\",self.location)\n",
    "    \n",
    "    def employee_salary(self,salary):\n",
    "        print(\"Salary of an employee is :\",salary)\n",
    "        self.designation = 'Data scientist'\n",
    "    \n",
    "    def get_company_name(self):\n",
    "        print(\"We are in company name function\")\n",
    "        print(\"Company Name is :\",self.company_name)\n",
    "        print(\"Company Location is :\",self.location)\n",
    "    \n",
    "    def employee_designation(self):\n",
    "        print(\"Employee Designation is :\",self.designation)\n",
    "    \n",
    "print(\"*\"*50)\n",
    "empObj = EmployeeDetails('Rohit','Wipro')\n",
    "print(\"*\"*50)\n",
    "\n",
    "\n",
    "print(empObj.company_name)\n",
    "empObj.company_name = 'TCS'\n",
    "print(\"*\"*50)\n",
    "\n",
    "empObj.employee_name()\n",
    "empObj.employee_salary(70000)\n",
    "empObj.employee_designation()\n",
    "print(\"-\"*50)\n",
    "\n",
    "print(\"location :::::::: \",empObj.location)\n",
    "empObj.location = 'Mumbai'\n",
    "print(\"-\"*50)\n",
    "\n",
    "empObj.get_company_name()"
   ]
  },
  {
   "cell_type": "code",
   "execution_count": null,
   "id": "invalid-control",
   "metadata": {},
   "outputs": [],
   "source": [
    "class EmployeeDetails():\n",
    "    location = 'Pune'\n",
    "    \n",
    "    def __init__(self,emp_name,company_name): \n",
    "        print(\"We are in init function\")\n",
    "        print(f\"emp_name == {emp_name}\")\n",
    "        print(f\"company_name == {company_name}\")\n",
    "        \n",
    "        self.name = emp_name\n",
    "        self.company_name = company_name\n",
    "    \n",
    "    def employee_name(self):\n",
    "        print(\"Employee Name is :\",self.name)\n",
    "        print(\"Company Location is :\",self.location)\n",
    "    \n",
    "    def employee_salary(self,salary):\n",
    "        print(\"Salary of an employee is :\",salary)\n",
    "        self.designation = 'Data scientist'\n",
    "    \n",
    "    def get_company_name(self):\n",
    "        print(\"We are in company name function\")\n",
    "        print(\"Company Name is :\",self.company_name)\n",
    "        print(\"Company Location is :\",self.location)\n",
    "    \n",
    "    def employee_designation(self):\n",
    "        print(\"Employee Designation is :\",self.designation)\n",
    "    \n",
    "print(\"*\"*50)\n",
    "empObj = EmployeeDetails('Rohit','Wipro')\n",
    "print(\"*\"*50)\n",
    "\n",
    "\n",
    "print(empObj.company_name)\n",
    "empObj.company_name = 'TCS'\n",
    "print(\"*\"*50)\n",
    "\n",
    "empObj.employee_name()\n",
    "empObj.employee_salary(70000)\n",
    "empObj.employee_designation()\n",
    "print(\"-\"*50)\n",
    "\n",
    "print(\"location :::::::: \",empObj.location)\n",
    "empObj.location = 'Mumbai'\n",
    "print(\"-\"*50)\n",
    "\n",
    "empObj.get_company_name()"
   ]
  },
  {
   "cell_type": "code",
   "execution_count": 80,
   "id": "sufficient-creator",
   "metadata": {},
   "outputs": [
    {
     "name": "stdout",
     "output_type": "stream",
     "text": [
      "**************************************************\n",
      "We are in init function\n",
      "emp_name == Rohit\n",
      "company_name == Wipro\n",
      "**************************************************\n",
      "Wipro\n",
      "**************************************************\n",
      "Employee Name is : Rohit\n",
      "Company Location is : Pune\n",
      "Salary of an employee is : 50000\n",
      "Employee Designation is : Data scientist\n",
      "--------------------------------------------------\n",
      "location ::::::::  Pune\n",
      "--------------------------------------------------\n",
      "We are in company name function\n",
      "Company Name is : TCS\n",
      "Company Location is : Mumbai\n",
      "Args : (2, 3, 4, 5, 6)\n"
     ]
    }
   ],
   "source": [
    "class EmployeeDetails():\n",
    "    location = 'Pune'\n",
    "    \n",
    "    def __init__(self,emp_name,company_name): \n",
    "        print(\"We are in init function\")\n",
    "        print(f\"emp_name == {emp_name}\")\n",
    "        print(f\"company_name == {company_name}\")\n",
    "        \n",
    "        self.name = emp_name\n",
    "        self.company_name = company_name\n",
    "    \n",
    "    def employee_name(self):\n",
    "        print(\"Employee Name is :\",self.name)\n",
    "        print(\"Company Location is :\",self.location)\n",
    "    \n",
    "    def employee_salary(self,salary = 50000):\n",
    "        print(\"Salary of an employee is :\",salary)\n",
    "        self.designation = 'Data scientist'\n",
    "    \n",
    "    def get_company_name(self):\n",
    "        print(\"We are in company name function\")\n",
    "        print(\"Company Name is :\",self.company_name)\n",
    "        print(\"Company Location is :\",self.location)\n",
    "    \n",
    "    def employee_designation(self):\n",
    "        print(\"Employee Designation is :\",self.designation)\n",
    "    \n",
    "    \n",
    "    def test_function(self,*args):\n",
    "        print(\"Args :\",args)\n",
    "        \n",
    "print(\"*\"*50)\n",
    "empObj = EmployeeDetails('Rohit','Wipro')\n",
    "print(\"*\"*50)\n",
    "\n",
    "\n",
    "print(empObj.company_name)\n",
    "empObj.company_name = 'TCS'\n",
    "print(\"*\"*50)\n",
    "\n",
    "empObj.employee_name()\n",
    "empObj.employee_salary()\n",
    "empObj.employee_designation()\n",
    "print(\"-\"*50)\n",
    "\n",
    "print(\"location :::::::: \",empObj.location)\n",
    "empObj.location = 'Mumbai'\n",
    "print(\"-\"*50)\n",
    "\n",
    "empObj.get_company_name()\n",
    "\n",
    "empObj.test_function(2,3,4,5,6)"
   ]
  },
  {
   "cell_type": "markdown",
   "id": "minimal-stability",
   "metadata": {},
   "source": [
    "### Four Fundamental Concepts in Object oriented Programming Language"
   ]
  },
  {
   "cell_type": "code",
   "execution_count": null,
   "id": "distinguished-drive",
   "metadata": {},
   "outputs": [],
   "source": [
    "1. Inheritance\n",
    "2. Encapsulation\n",
    "3. Polymorphism\n",
    "4. Abstraction"
   ]
  },
  {
   "cell_type": "code",
   "execution_count": 83,
   "id": "sudden-complexity",
   "metadata": {},
   "outputs": [
    {
     "name": "stdout",
     "output_type": "stream",
     "text": [
      "Addition of 4 and 5 is 9\n",
      "Multiplication of 4 and 5 is 20\n"
     ]
    },
    {
     "data": {
      "text/plain": [
       "20"
      ]
     },
     "execution_count": 83,
     "metadata": {},
     "output_type": "execute_result"
    }
   ],
   "source": [
    "class Calculator():\n",
    "    def __init__(self,a,b):\n",
    "        self.a = a\n",
    "        self.b = b\n",
    "        \n",
    "    def addition(self):\n",
    "        add = self.a + self.b\n",
    "        print(f\"Addition of {self.a} and {self.b} is {add}\")\n",
    "        return add\n",
    "    \n",
    "    def multiplication(self):\n",
    "        mul = self.a * self.b\n",
    "        print(f\"Multiplication of {self.a} and {self.b} is {mul}\")\n",
    "        return mul\n",
    "    \n",
    "c1 = Calculator(4,5)\n",
    "c1.addition()\n",
    "c1.multiplication()"
   ]
  },
  {
   "cell_type": "code",
   "execution_count": 91,
   "id": "supported-italic",
   "metadata": {},
   "outputs": [
    {
     "name": "stdout",
     "output_type": "stream",
     "text": [
      "Addition of 4 and 6 is 10\n",
      "Multiplication of 10 and 20 is 200\n",
      "self.add 10\n"
     ]
    },
    {
     "data": {
      "text/plain": [
       "200"
      ]
     },
     "execution_count": 91,
     "metadata": {},
     "output_type": "execute_result"
    }
   ],
   "source": [
    "class Calculator():\n",
    "        \n",
    "    def addition(self,a,b):\n",
    "        self.add = a + b\n",
    "        print(f\"Addition of {a} and {b} is {self.add}\")\n",
    "        return self.add\n",
    "    \n",
    "    def multiplication(self,a,b):\n",
    "        mul = a * b\n",
    "        print(f\"Multiplication of {a} and {b} is {mul}\")\n",
    "        print(\"self.add\",self.add)\n",
    "        return mul\n",
    "    \n",
    "c1 = Calculator()\n",
    "c1.addition(4,6)\n",
    "c1.multiplication(10,20)"
   ]
  },
  {
   "cell_type": "code",
   "execution_count": null,
   "id": "refined-pearl",
   "metadata": {},
   "outputs": [],
   "source": [
    "class Calculator():\n",
    "        \n",
    "    def addition(self,a,b):\n",
    "        add = a + b\n",
    "        print(f\"Addition of {a} and {b} is {add}\")\n",
    "        return add\n",
    "    \n",
    "    def multiplication(self,a,b):\n",
    "        mul = a * b\n",
    "        print(f\"Multiplication of {a} and {b} is {mul}\")\n",
    "        return mul\n",
    "    \n",
    "c1 = Calculator()\n",
    "c1.addition(4,6)\n",
    "c1.multiplication(10,20)"
   ]
  }
 ],
 "metadata": {
  "kernelspec": {
   "display_name": "Python 3 (ipykernel)",
   "language": "python",
   "name": "python3"
  },
  "language_info": {
   "codemirror_mode": {
    "name": "ipython",
    "version": 3
   },
   "file_extension": ".py",
   "mimetype": "text/x-python",
   "name": "python",
   "nbconvert_exporter": "python",
   "pygments_lexer": "ipython3",
   "version": "3.9.7"
  }
 },
 "nbformat": 4,
 "nbformat_minor": 5
}
